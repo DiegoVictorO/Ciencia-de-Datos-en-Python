{
 "cells": [
  {
   "cell_type": "markdown",
   "id": "fc0bd588-4cb2-4028-aeff-b8b06d38b77f",
   "metadata": {},
   "source": [
    "# 3. Ciclo While"
   ]
  },
  {
   "cell_type": "code",
   "execution_count": 2,
   "id": "8d2adda9-2c8e-411e-b8f9-28c3b3373afe",
   "metadata": {
    "tags": []
   },
   "outputs": [
    {
     "name": "stdout",
     "output_type": "stream",
     "text": [
      "0\n",
      "1\n",
      "2\n",
      "3\n",
      "4\n",
      "5\n",
      "6\n",
      "7\n",
      "8\n",
      "9\n",
      "termino...\n"
     ]
    }
   ],
   "source": [
    "valor = 0\n",
    "while(valor !=10):\n",
    "    print(valor)\n",
    "    valor= valor + 1\n",
    "print(\"termino...\")"
   ]
  },
  {
   "cell_type": "markdown",
   "id": "216b909c-8b39-43e4-8e41-f31c954d850b",
   "metadata": {},
   "source": [
    "### Ejercicio 1"
   ]
  },
  {
   "cell_type": "code",
   "execution_count": 7,
   "id": "bc32bc17-a289-4489-b705-bf96fa893d30",
   "metadata": {
    "tags": []
   },
   "outputs": [
    {
     "name": "stdin",
     "output_type": "stream",
     "text": [
      "ingrese un numero :  5\n"
     ]
    },
    {
     "name": "stdout",
     "output_type": "stream",
     "text": [
      "El valor absoluto de 5 es 5\n"
     ]
    }
   ],
   "source": [
    "x = int(input(\"ingrese un numero : \"))\n",
    "\n",
    "if(x <= 0):\n",
    "    absX = -1*x #vuelve positivo el numero \n",
    "else:\n",
    "    absX = x\n",
    "print(f\"El valor absoluto de {x} es {absX}\")"
   ]
  },
  {
   "cell_type": "code",
   "execution_count": 11,
   "id": "01cded5c-d2b3-4d8b-9ee6-7b4f6cc5688a",
   "metadata": {
    "tags": []
   },
   "outputs": [
    {
     "name": "stdin",
     "output_type": "stream",
     "text": [
      "Ingrese la categoria:  2\n",
      "ingrese el salario:  100\n"
     ]
    },
    {
     "name": "stdout",
     "output_type": "stream",
     "text": [
      "\n",
      "El salario inicial es: 100.0\n",
      "el nuevo salario seria de: 110.0\n"
     ]
    }
   ],
   "source": [
    "categoria = int(input(\"Ingrese la categoria: \"))\n",
    "salario = float(input(\"ingrese el salario: \"))\n",
    "if((categoria >=1) and (categoria <=4) and (salario >0)):\n",
    "    if(categoria == 1):\n",
    "        incremento = 0.15\n",
    "    elif(categoria == 2):\n",
    "        incremento = 0.1\n",
    "    elif(categoria == 3):\n",
    "        incremento =0.08\n",
    "    else:\n",
    "        incremento = 0.07\n",
    "\n",
    "    salario_final = salario + (salario*incremento)\n",
    "    print(f\"\\nEl salario inicial es: {salario}\")\n",
    "    print(f\"el nuevo salario seria de: {salario_final}\")\n",
    "else:\n",
    "    print(\"Error!! -- Datos incorrectos\")"
   ]
  },
  {
   "cell_type": "code",
   "execution_count": 14,
   "id": "dcf7432f-e91f-4db3-be84-305647e500f2",
   "metadata": {
    "tags": []
   },
   "outputs": [
    {
     "name": "stdin",
     "output_type": "stream",
     "text": [
      "ingrese un numero:  10\n",
      "ingrese un numero:  12\n",
      "ingrese un numero:  7\n",
      "ingrese un numero:  5\n",
      "ingrese un numero:  1\n",
      "ingrese un numero:  3\n",
      "ingrese un numero:  9\n",
      "ingrese un numero:  10\n",
      "ingrese un numero:  20\n"
     ]
    },
    {
     "name": "stdout",
     "output_type": "stream",
     "text": [
      "correcto el numero secreto es 20 lo has conseguido en 9 intentos.\n"
     ]
    }
   ],
   "source": [
    "import random\n",
    "numero_secreto = random.randint(1, 20)\n",
    "numero = 0\n",
    "intento = 0\n",
    "while( numero != numero_secreto):\n",
    "    intento = intento + 1\n",
    "    numero = int(input(\"ingrese un numero: \"))\n",
    "    if((numero < 0 ) or (numero > 20)):\n",
    "        print(\"error - debes ingresar un numero entre 1 y 20\")\n",
    "print(f\"correcto el numero secreto es {numero} lo has conseguido en {intento} intentos.\")"
   ]
  },
  {
   "cell_type": "markdown",
   "id": "411f75b6-1c7a-4531-8011-ead4b1ff5d12",
   "metadata": {
    "tags": []
   },
   "source": [
    "# 4. Excepciones"
   ]
  },
  {
   "cell_type": "code",
   "execution_count": 17,
   "id": "f137b5f4-0d65-4d52-9b6f-a7790d7817e0",
   "metadata": {
    "tags": []
   },
   "outputs": [
    {
     "name": "stdin",
     "output_type": "stream",
     "text": [
      "Ingrese un numero:  10\n",
      "Ingrese otro numero:  sd\n"
     ]
    },
    {
     "name": "stdout",
     "output_type": "stream",
     "text": [
      "\n",
      "Error en los datos\n"
     ]
    }
   ],
   "source": [
    "try:\n",
    "    numeroA = int(input(\"Ingrese un numero: \"))\n",
    "    numeroB = int(input(\"Ingrese otro numero: \"))\n",
    "    resultado = numeroA/ numeroB\n",
    "\n",
    "    print(f\"La division es: {resultado}\")\n",
    "except:\n",
    "     print(f\"\\nError en los datos\")"
   ]
  },
  {
   "cell_type": "code",
   "execution_count": 23,
   "id": "ecda0500-730f-4edd-85cf-b4c7ce6a910f",
   "metadata": {
    "tags": []
   },
   "outputs": [
    {
     "name": "stdin",
     "output_type": "stream",
     "text": [
      "Ingrese un numero:  10\n",
      "Ingrese otro numero:  5\n"
     ]
    },
    {
     "name": "stdout",
     "output_type": "stream",
     "text": [
      "La division es: 2.0\n",
      "\n",
      "Calculo terminado...\n"
     ]
    }
   ],
   "source": [
    "try:\n",
    "    numeroA = int(input(\"Ingrese un numero: \"))\n",
    "    numeroB = int(input(\"Ingrese otro numero: \"))\n",
    "    resultado = numeroA / numeroB\n",
    "    print(f\"La division es: {resultado}\")\n",
    "except ZeroDivisionError:\n",
    "    print(\"Error - Division por cero\")\n",
    "except ValueError:\n",
    "    print(\"Error - ingreso letras y no numeros\")\n",
    "except:\n",
    "    print(\"Error - no conoscido\")\n",
    "finally:\n",
    "    print(\"\\nCalculo terminado...\")"
   ]
  },
  {
   "cell_type": "markdown",
   "id": "0495610e-dc99-431b-8cd8-3e9ebcb0793f",
   "metadata": {},
   "source": [
    "# 5. Funciones"
   ]
  },
  {
   "cell_type": "code",
   "execution_count": 24,
   "id": "83b953af-ee0a-4745-8e89-2686d1403e99",
   "metadata": {
    "tags": []
   },
   "outputs": [],
   "source": [
    "def sumar(a,b):\n",
    "    return a + b"
   ]
  },
  {
   "cell_type": "code",
   "execution_count": 25,
   "id": "d1ce389e-e09b-4b92-9e63-f81ed9717c70",
   "metadata": {
    "tags": []
   },
   "outputs": [
    {
     "data": {
      "text/plain": [
       "100"
      ]
     },
     "execution_count": 25,
     "metadata": {},
     "output_type": "execute_result"
    }
   ],
   "source": [
    "sumar(50,50)"
   ]
  },
  {
   "cell_type": "code",
   "execution_count": null,
   "id": "ff22b44f-9db7-4dea-a324-98576ad45224",
   "metadata": {},
   "outputs": [],
   "source": []
  }
 ],
 "metadata": {
  "kernelspec": {
   "display_name": "Python 3 (ipykernel)",
   "language": "python",
   "name": "python3"
  },
  "language_info": {
   "codemirror_mode": {
    "name": "ipython",
    "version": 3
   },
   "file_extension": ".py",
   "mimetype": "text/x-python",
   "name": "python",
   "nbconvert_exporter": "python",
   "pygments_lexer": "ipython3",
   "version": "3.11.5"
  }
 },
 "nbformat": 4,
 "nbformat_minor": 5
}
