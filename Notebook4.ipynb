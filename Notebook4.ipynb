{
 "cells": [
  {
   "cell_type": "markdown",
   "id": "963aa414-3fce-4d2c-9247-336eb7cee915",
   "metadata": {},
   "source": [
    "#Ejercicio 1 \n",
    "Haga una función en Python que reciba un numero entero y que muestre la tabla de multiplicar del 1 al 10 de dicho numero.\n",
    "•Su función debe mostrar cada valor de multiplicación y el resultado como se muestra a a continuación:\n",
    "•8 * 1 = 8\n",
    "•8 * 2 = 16\n",
    "•8 * 3 = 24"
   ]
  },
  {
   "cell_type": "code",
   "execution_count": 10,
   "id": "71f9b3ab-6c01-4995-ac04-6ea900ae405e",
   "metadata": {
    "tags": []
   },
   "outputs": [
    {
     "name": "stdin",
     "output_type": "stream",
     "text": [
      "Ingrese un numero :  2\n"
     ]
    },
    {
     "name": "stdout",
     "output_type": "stream",
     "text": [
      "2 * 1 =  2\n",
      "2 * 2 =  4\n",
      "2 * 3 =  6\n",
      "2 * 4 =  8\n",
      "2 * 5 =  10\n",
      "2 * 6 =  12\n",
      "2 * 7 =  14\n",
      "2 * 8 =  16\n",
      "2 * 9 =  18\n",
      "2 * 10 =  20\n"
     ]
    }
   ],
   "source": [
    "x = int(input(\"Ingrese un numero : \"))\n",
    "lista = [1,2,3,4,5,6,7,8,9,10]\n",
    "\n",
    "for valor in lista:\n",
    "    print(f\"{x} * {valor} = \", x*valor)\n",
    "\n"
   ]
  },
  {
   "cell_type": "markdown",
   "id": "c71f2d31-40d9-48f1-bcbc-60b08e27cce4",
   "metadata": {},
   "source": [
    "Ejercicio 2 Escribir un programa que pida al usuario un número entero positivo y muestre por pantalla todos los números impares desde 1 hasta ese número separados por comas."
   ]
  },
  {
   "cell_type": "code",
   "execution_count": 20,
   "id": "c69868b7-e8ea-4938-8ed0-791af687c7ae",
   "metadata": {
    "tags": []
   },
   "outputs": [
    {
     "name": "stdin",
     "output_type": "stream",
     "text": [
      "Ingrese un numero :  33\n"
     ]
    },
    {
     "name": "stdout",
     "output_type": "stream",
     "text": [
      "1, 3, 5, 7, 9, 11, 13, 15, 17, 19, 21, 23, 25, 27, 29, 31, 33\n"
     ]
    }
   ],
   "source": [
    "i = 1\n",
    "val = int(input(\"Ingrese un numero : \"))\n",
    "\n",
    "salida= \"\"\n",
    "while(i <= val):\n",
    "    if((i % 2) ==1):\n",
    "        salida = salida + str(i) + \", \"\n",
    "    i = i + 1\n",
    "print(salida[:-2])"
   ]
  },
  {
   "cell_type": "markdown",
   "id": "de3cd4ed-a636-4135-8aeb-aa1c08de759a",
   "metadata": {},
   "source": [
    "Ejercicio 3 Escriba un programa que solicite una contraseña (el texto de la contraseña no es importante) y la vuelva a solicitar hasta que las dos contraseñas coincidan, con un límite de tres peticiones."
   ]
  },
  {
   "cell_type": "code",
   "execution_count": 27,
   "id": "7e9b5ba3-7429-48c5-a671-f505e74dcde2",
   "metadata": {
    "tags": []
   },
   "outputs": [
    {
     "name": "stdin",
     "output_type": "stream",
     "text": [
      "ingrese una contraseña:  sdfs\n"
     ]
    },
    {
     "name": "stdout",
     "output_type": "stream",
     "text": [
      "Password incorrecta, inento 1 de 3. Intente de nuevo\n",
      "\n"
     ]
    },
    {
     "name": "stdin",
     "output_type": "stream",
     "text": [
      "ingrese una contraseña:  sdf\n"
     ]
    },
    {
     "name": "stdout",
     "output_type": "stream",
     "text": [
      "Password incorrecta, inento 2 de 3. Intente de nuevo\n",
      "\n"
     ]
    },
    {
     "name": "stdin",
     "output_type": "stream",
     "text": [
      "ingrese una contraseña:  mango\n"
     ]
    },
    {
     "name": "stdout",
     "output_type": "stream",
     "text": [
      "contraseña correcta, puede acceder\n"
     ]
    }
   ],
   "source": [
    "contraseña = 'mango'\n",
    "password = \"\"\n",
    "\n",
    "for intento in range ( 1, 4,1):\n",
    "    password = input(\"ingrese una contraseña: \")\n",
    "    \n",
    "    if(password != contraseña):\n",
    "        print(f\"Password incorrecta, inento {intento} de 3. Intente de nuevo\")\n",
    "        print(\"\")\n",
    "        \n",
    "        if intento == 3: print(\"Sistema Bloqueado\")\n",
    "    else:\n",
    "        print(\"contraseña correcta, puede acceder\")\n",
    "        break"
   ]
  },
  {
   "cell_type": "code",
   "execution_count": null,
   "id": "890e9bcd-00a1-4203-a454-5ed6d9661551",
   "metadata": {},
   "outputs": [],
   "source": []
  }
 ],
 "metadata": {
  "kernelspec": {
   "display_name": "Python 3 (ipykernel)",
   "language": "python",
   "name": "python3"
  },
  "language_info": {
   "codemirror_mode": {
    "name": "ipython",
    "version": 3
   },
   "file_extension": ".py",
   "mimetype": "text/x-python",
   "name": "python",
   "nbconvert_exporter": "python",
   "pygments_lexer": "ipython3",
   "version": "3.11.5"
  }
 },
 "nbformat": 4,
 "nbformat_minor": 5
}
