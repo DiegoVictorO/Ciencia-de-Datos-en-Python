{
 "cells": [
  {
   "cell_type": "code",
   "execution_count": 10,
   "id": "6163b71f-511c-4089-97dc-5bbe2ac14e16",
   "metadata": {
    "tags": []
   },
   "outputs": [
    {
     "name": "stdout",
     "output_type": "stream",
     "text": [
      "este es el sistema de generación de codigos de Zeramiks S.A.\n"
     ]
    },
    {
     "name": "stdin",
     "output_type": "stream",
     "text": [
      "Ingrese su nombre:  di\n"
     ]
    },
    {
     "name": "stdout",
     "output_type": "stream",
     "text": [
      "Bienvenido, di. escoje una opcion\n",
      "\n",
      "1. Crear codigos nuevos.\n",
      "2. Ver codigos creados.\n",
      "3. Salir del sistema.\n"
     ]
    },
    {
     "name": "stdin",
     "output_type": "stream",
     "text": [
      "Has escojido la opción:  1\n",
      "Cuantos codigos se deben generar:  10\n"
     ]
    },
    {
     "name": "stdout",
     "output_type": "stream",
     "text": [
      "GKQIFCN8741116 - Categoría: B\n",
      "LEZBKVQ5536414 - Categoría: B\n",
      "DPPUUHN0239211 - Categoría: B\n",
      "DEOFZMT2178448 - Categoría: B\n",
      "QQLQRSV7757061 - Categoría: B\n",
      "MMIADIR3345523 - Categoría: B\n",
      "MYNHARA5132615 - Categoría: B\n",
      "TEINQJU7985420 - Categoría: A\n",
      "QTGSKOK5393803 - Categoría: B\n",
      "KZKVLGJ9613410 - Categoría: B\n",
      "\n",
      "1. Crear codigos nuevos.\n",
      "2. Ver codigos creados.\n",
      "3. Salir del sistema.\n"
     ]
    },
    {
     "name": "stdin",
     "output_type": "stream",
     "text": [
      "Has escojido la opción:  3\n"
     ]
    },
    {
     "name": "stdout",
     "output_type": "stream",
     "text": [
      "Gracias por usar el sistema, di. Hasta pronto.\n",
      "Fecha y hora de salida: 2024-04-02 22:57:32\n"
     ]
    }
   ],
   "source": [
    "from datetime import datetime\n",
    "import random\n",
    "import string\n",
    "import json\n",
    "\n",
    "def generar_codigo():\n",
    "    letras = ''.join(random.choices(string.ascii_uppercase, k=7))\n",
    "    numeros = ''.join(random.choices(string.digits, k=7))\n",
    "    return letras + numeros\n",
    "\n",
    "def clasificar_codigo(codigo):\n",
    "    suma_numeros = sum(int(digito) for digito in codigo if digito.isdigit())\n",
    "    if suma_numeros >= 35:\n",
    "        return 'A'\n",
    "    elif 16 < suma_numeros < 35:\n",
    "        return 'B'\n",
    "    else:\n",
    "        return 'C'\n",
    "\n",
    "def almacenar_codigo(codigo, categoria):\n",
    "    archivo = 'codigos.json'\n",
    "    fecha_hora = datetime.now().strftime(\"%Y-%m-%d %H:%M:%S\")\n",
    "    nuevo_codigo = {\"codigo\": codigo, \"categoria\": categoria, \"fecha_creacion\": fecha_hora}\n",
    "    \n",
    "    try:\n",
    "        with open(archivo, 'r+') as file:\n",
    "            datos = json.load(file)\n",
    "            datos.append(nuevo_codigo)\n",
    "            file.seek(0)\n",
    "            json.dump(datos, file, indent=4)\n",
    "    except FileNotFoundError:\n",
    "        with open(archivo, 'w') as file:\n",
    "            json.dump([nuevo_codigo], file, indent=4)\n",
    "\n",
    "def mostrar_codigos(categoria, fecha_inicio, fecha_fin):\n",
    "    archivo = 'codigos.json'\n",
    "    try:\n",
    "        with open(archivo, 'r') as file:\n",
    "            codigos = json.load(file)\n",
    "            for codigo in codigos:\n",
    "                if codigo['categoria'] == categoria and fecha_inicio <= codigo['fecha_creacion'] <= fecha_fin:\n",
    "                    print(codigo)\n",
    "    except FileNotFoundError:\n",
    "        print(\"No se encontraron códigos almacenados.\")\n",
    "\n",
    "def main():\n",
    "    print(\"Este es el sistema de generación de codigos de Zeramiks\")\n",
    "    nombre = input(\"Ingrese su nombre: \")\n",
    "    print(f\"Bienvenido, {nombre}. escoje una opcion\")\n",
    "    \n",
    "    while True:\n",
    "        print(\"\\n1. Crear codigos nuevos.\\n2. Ver codigos creados.\\n3. Salir del sistema.\")\n",
    "        opcion = input(\"Has escojido la opción: \")\n",
    "        \n",
    "        if opcion == '1':\n",
    "            cantidad = int(input(\"Cuantos codigos se deben generar: \"))\n",
    "            for _ in range(cantidad):\n",
    "                codigo = generar_codigo()\n",
    "                categoria = clasificar_codigo(codigo)\n",
    "                almacenar_codigo(codigo, categoria)\n",
    "                print(f\"{codigo} - categorica: {categoria}\")\n",
    "                \n",
    "        elif opcion == '2':\n",
    "            categoria = input(\"Ingrese la categoría a buscar (A, B, C): \")\n",
    "            fecha_inicio = input(\"Ingrese la fecha de inicio (AAAA-MM-DD): \")\n",
    "            fecha_fin = input(\"Ingrese la fecha de fin (AAAA-MM-DD): \")\n",
    "            mostrar_codigos(categoria, fecha_inicio, fecha_fin)\n",
    "            \n",
    "        elif opcion == '3':\n",
    "            print(f\"Hasta pronto, {nombre}. No dudes en volver a usarnos cuando lo necesites.\")\n",
    "            print(\"Fecha y hora de salida:\", datetime.now().strftime(\"%Y-%m-%d %H:%M:%S\"))\n",
    "            break\n",
    "        else:\n",
    "            print(\"La opción seleccionada no es válida. Por favor,elija una opción válida del menú.\")\n",
    "\n",
    "if __name__ == \"__main__\":\n",
    "    main()\n"
   ]
  },
  {
   "cell_type": "code",
   "execution_count": null,
   "id": "3367a935-13fc-4929-b4ce-6c47b228d7b9",
   "metadata": {},
   "outputs": [],
   "source": []
  }
 ],
 "metadata": {
  "kernelspec": {
   "display_name": "Python 3 (ipykernel)",
   "language": "python",
   "name": "python3"
  },
  "language_info": {
   "codemirror_mode": {
    "name": "ipython",
    "version": 3
   },
   "file_extension": ".py",
   "mimetype": "text/x-python",
   "name": "python",
   "nbconvert_exporter": "python",
   "pygments_lexer": "ipython3",
   "version": "3.11.5"
  }
 },
 "nbformat": 4,
 "nbformat_minor": 5
}
