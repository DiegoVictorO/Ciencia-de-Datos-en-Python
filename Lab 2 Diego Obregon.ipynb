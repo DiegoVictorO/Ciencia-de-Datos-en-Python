{
 "cells": [
  {
   "cell_type": "markdown",
   "id": "c471ecdd-22c7-4500-b9b3-043672e9cdeb",
   "metadata": {},
   "source": [
    "# Lab 2 Diego Obregon"
   ]
  },
  {
   "cell_type": "markdown",
   "id": "4f806d59-3343-4283-90e2-49dd21946269",
   "metadata": {},
   "source": [
    "1). \tHaga un programa en Python que reciba de parámetro un número de segundos y que despliegue en pantalla, las horas, minutos y segundos que representan. \n",
    "\n",
    "\n",
    "Por ejemplo: Si el número de segundos recibidos fuera: 2743 entonces su programa debería desplegar:\n",
    "\n",
    "\t \t\t \tHoras: 0 \n",
    "\t \t\t \tMinutos: 45 \n",
    "\t \t\t \tSegundos: 43 \n",
    " \n",
    "Si el número de segundos recibidos fuera 5871: \n",
    "\n",
    "\t \t\t \tHoras: 1 \n",
    " \t  \t \t\tMinutos: 37 \n",
    " \t \t \t \tSegundos: 51 \n"
   ]
  },
  {
   "cell_type": "code",
   "execution_count": 3,
   "id": "ce9b5550-4b5b-49c0-ac55-d3d65dfe429c",
   "metadata": {
    "tags": []
   },
   "outputs": [
    {
     "name": "stdin",
     "output_type": "stream",
     "text": [
      "Ingrese cantidad de segundos:  5871\n"
     ]
    },
    {
     "name": "stdout",
     "output_type": "stream",
     "text": [
      "Horas: 1, Minutos: 37, Segundos: 51\n"
     ]
    }
   ],
   "source": [
    "segundos = int(input(\"Ingrese cantidad de segundos: \"))\n",
    "horas = segundos // 3600\n",
    "minutos = (segundos % 3600) // 60\n",
    "segundos_restantes = segundos % 60\n",
    "print(f\"Horas: {horas}, Minutos: {minutos}, Segundos: {segundos_restantes}\")\n"
   ]
  },
  {
   "cell_type": "markdown",
   "id": "235e2e44-893e-455d-a4d0-5acd2733b0b9",
   "metadata": {},
   "source": [
    "2). Haga un programa en Python que permita el ingreso de las calificaciones de una evaluación del curso de Ciencia de Datos en Python, el programa debe desplegar un mensaje en función de la nota ingresada. Además de eso si la calificación es reprobada ósea menor a 71, se debe calcular la diferencia entre la nota de aprobación y la calificación ingresada.  "
   ]
  },
  {
   "cell_type": "code",
   "execution_count": 13,
   "id": "8bc50d71-0534-43c8-9abe-3ff37514dbea",
   "metadata": {
    "tags": []
   },
   "outputs": [
    {
     "name": "stdin",
     "output_type": "stream",
     "text": [
      "Ingrese la calificación de la evaluación:  60\n"
     ]
    },
    {
     "name": "stdout",
     "output_type": "stream",
     "text": [
      "Mensaje: REGULAR\n",
      "La diferencia para aprobar es de 11.\n"
     ]
    }
   ],
   "source": [
    "try:\n",
    "    calificacion = int(input(\"Ingrese la calificación de la evaluación: \"))\n",
    "\n",
    "    if calificacion < 50:\n",
    "        mensaje = \"INSUFICIENTE\"\n",
    "    elif calificacion <= 60:\n",
    "        mensaje = \"REGULAR\"\n",
    "    elif calificacion <= 70:\n",
    "        mensaje = \"BIEN\"\n",
    "    elif calificacion <= 90:\n",
    "        mensaje = \"MUY BIEN\"\n",
    "    elif calificacion <= 100:\n",
    "        mensaje = \"SOBRESALIENTE\"\n",
    "    else:\n",
    "        mensaje = \"Nota fuera de rango\"\n",
    "    \n",
    "    print(f\"Mensaje: {mensaje}\")\n",
    "    \n",
    "    if calificacion < 71:\n",
    "        diferencia = 71 - calificacion\n",
    "        print(f\"La diferencia para aprobar es de {diferencia}.\")\n",
    "except ValueError:\n",
    "    print(\"Por favor, ingresa un número válido.\")\n"
   ]
  },
  {
   "cell_type": "markdown",
   "id": "c5c31f56-1c52-433d-9d82-93af6d5c1bab",
   "metadata": {},
   "source": [
    "3). Haga un programa en Python que dados dos números ingresados por el usuario, el primero mayor que el segundo, calcular y mostrar la suma de todos los números comprendidos entre ambos.  \n",
    " \n",
    "Es importante que valide los datos según lo especificado anteriormente es decir si el usuario ingresa 1 y 100, el programa debe mostrar un error, Si los números ingresados fuesen 9 y 5, la respuesta sería 9 + 8 + 7 + 6 + 5 = 35. Utilice un ciclo for para este ejercicio. \n"
   ]
  },
  {
   "cell_type": "code",
   "execution_count": 16,
   "id": "4e46c079-299a-4b5f-8770-d4f9cde0e103",
   "metadata": {
    "tags": []
   },
   "outputs": [
    {
     "name": "stdin",
     "output_type": "stream",
     "text": [
      "Ingrese el primer numero:  9\n",
      "Ingrese el segundo número, debe ser menor que el primero numero:  5\n"
     ]
    },
    {
     "name": "stdout",
     "output_type": "stream",
     "text": [
      "5 + 6 + 7 + 8 + 9 = 35\n"
     ]
    }
   ],
   "source": [
    "try:\n",
    "    primer_numero = int(input(\"Ingrese el primer numero: \"))\n",
    "    segundo_numero = int(input(\"Ingrese el segundo número, debe ser menor que el primero numero: \"))\n",
    "\n",
    "    if primer_numero <= segundo_numero:\n",
    "        print(\"Error: El primer número debe ser mayor que el segundo.\")\n",
    "    else:\n",
    "        suma = sum(range(segundo_numero, primer_numero + 1))\n",
    "        calculo = ' + '.join(str(n) for n in range(segundo_numero, primer_numero + 1))\n",
    "        print(f\"{calculo} = {suma}\")\n",
    "except ValueError:\n",
    "    print(\"Por favor, ingrese una combinacion validad.\")\n"
   ]
  },
  {
   "cell_type": "markdown",
   "id": "5d9d941e-a735-47c7-85d0-fd89c84e5e09",
   "metadata": {},
   "source": [
    "4). Haga un programa en Python que lea un número mayor que 0 y despliegue todos sus factores. \n",
    "Ingrese un número: 12 \n",
    "Factores: {1,2,3,4,6,12} \n",
    " \n",
    "Utilice un ciclo while para este ejercicio. \n"
   ]
  },
  {
   "cell_type": "code",
   "execution_count": 19,
   "id": "5855ba6f-0fb6-43fa-9c4b-01fa1c3c0251",
   "metadata": {
    "tags": []
   },
   "outputs": [
    {
     "name": "stdin",
     "output_type": "stream",
     "text": [
      "Ingrese un número mayor que 0:  12\n"
     ]
    },
    {
     "name": "stdout",
     "output_type": "stream",
     "text": [
      "Factores: {1, 2, 3, 4, 6, 12}\n"
     ]
    }
   ],
   "source": [
    "try:\n",
    "    numero = int(input(\"Ingrese un número mayor que 0: \"))\n",
    "    if numero <= 0:\n",
    "        print(\"El número debe ser mayor que 0.\")\n",
    "    else:\n",
    "        factores = set()\n",
    "        i = 1\n",
    "        while i <= numero:\n",
    "            if numero % i == 0:\n",
    "                factores.add(i)\n",
    "            i += 1\n",
    "        print(f\"Factores: {factores}\")\n",
    "except ValueError:\n",
    "    print(\"Por favor, ingrese un número válido.\")\n"
   ]
  },
  {
   "cell_type": "markdown",
   "id": "a54cad3f-9d8f-43ad-9390-f6eb5bf7b3f9",
   "metadata": {},
   "source": [
    "5). Haga un programa en Python que la fecha de nacimiento de una persona (puede ingresar por separado cada valor, es decir pedir primero día, luego mes y luego año), despliegue la edad de la persona en años, meses y días. \n",
    "Su resultado puede ser aproximado. \n"
   ]
  },
  {
   "cell_type": "code",
   "execution_count": 20,
   "id": "cabc3c59-03b6-4ebc-b284-be34a52bf27c",
   "metadata": {
    "tags": []
   },
   "outputs": [
    {
     "name": "stdin",
     "output_type": "stream",
     "text": [
      "Ingrese el día de nacimiento:  12\n",
      "Ingrese el mes de nacimiento:  12\n",
      "Ingrese el año de nacimiento:  1992\n"
     ]
    },
    {
     "name": "stdout",
     "output_type": "stream",
     "text": [
      "Edad: 31 años, 3 meses y 20 días.\n"
     ]
    }
   ],
   "source": [
    "from datetime import datetime\n",
    "\n",
    "dia_nacimiento = int(input(\"Ingrese el día de nacimiento: \"))\n",
    "mes_nacimiento = int(input(\"Ingrese el mes de nacimiento: \"))\n",
    "año_nacimiento = int(input(\"Ingrese el año de nacimiento: \"))\n",
    "\n",
    "fecha_actual = datetime.now()\n",
    "\n",
    "años = fecha_actual.year - año_nacimiento\n",
    "meses = fecha_actual.month - mes_nacimiento\n",
    "dias = fecha_actual.day - dia_nacimiento\n",
    "\n",
    "if meses < 0:\n",
    "    años -= 1\n",
    "    meses += 12\n",
    "if dias < 0:\n",
    "    meses -= 1\n",
    "    dias += 30\n",
    "\n",
    "if meses < 0:\n",
    "    años -= 1\n",
    "    meses += 12\n",
    "\n",
    "print(f\"Edad: {años} años, {meses} meses y {dias} días.\")\n"
   ]
  },
  {
   "cell_type": "markdown",
   "id": "9dc6bf95-ae57-4e31-a332-3e66a9c52d8c",
   "metadata": {},
   "source": [
    "6). Haga un programa en Python que dado un número entre 1 y\n",
    "20. Y un carácter cualquiera despliegue cuatro patrones\n",
    "triangulares.\n",
    "Por ejemplo si el usuario ingresara el número 4 y el\n",
    "símbolo * el programa deberá desplegar lo siguiente:\n",
    "* **** **** *\n",
    "** *** *** **\n",
    "*** ** ** ***\n",
    "**** * * ****"
   ]
  },
  {
   "cell_type": "code",
   "execution_count": 30,
   "id": "de683869-f7a3-4bad-a947-8999f8bcdc91",
   "metadata": {
    "tags": []
   },
   "outputs": [
    {
     "name": "stdin",
     "output_type": "stream",
     "text": [
      "Introduce un número entre 1 y 20:  4\n",
      "Introduce un símbolo:  *\n"
     ]
    },
    {
     "name": "stdout",
     "output_type": "stream",
     "text": [
      "*\n",
      "**\n",
      "***\n",
      "****\n",
      "\n",
      "****\n",
      "***\n",
      "**\n",
      "*\n",
      "\n",
      "****\n",
      " ***\n",
      "  **\n",
      "   *\n",
      "\n",
      "   *\n",
      "  **\n",
      " ***\n",
      "****\n"
     ]
    }
   ],
   "source": [
    "numero = int(input(\"Introduce un número entre 1 y 20: \"))\n",
    "simbolo = input(\"Introduce un símbolo: \")\n",
    "\n",
    "if 1 <= numero <= 20:\n",
    "    for i in range(1, numero + 1):\n",
    "        print(simbolo * i)\n",
    "    print()\n",
    "\n",
    "    for i in range(numero, 0, -1):\n",
    "        print(simbolo * i)\n",
    "    print()\n",
    "\n",
    "    for i in range(numero, 0, -1):\n",
    "        espacios = numero - i\n",
    "        print(' ' * espacios + simbolo * i)\n",
    "    print()\n",
    "\n",
    "    for i in range(1, numero +1):\n",
    "        espacios = numero - i\n",
    "        print(' ' * espacios + simbolo * i)\n",
    "else:\n",
    "    print(\"El número debe estar entre 1 y 20.\")\n"
   ]
  }
 ],
 "metadata": {
  "kernelspec": {
   "display_name": "Python 3 (ipykernel)",
   "language": "python",
   "name": "python3"
  },
  "language_info": {
   "codemirror_mode": {
    "name": "ipython",
    "version": 3
   },
   "file_extension": ".py",
   "mimetype": "text/x-python",
   "name": "python",
   "nbconvert_exporter": "python",
   "pygments_lexer": "ipython3",
   "version": "3.11.5"
  }
 },
 "nbformat": 4,
 "nbformat_minor": 5
}
