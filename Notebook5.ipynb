{
 "cells": [
  {
   "cell_type": "markdown",
   "id": "a8d536ae-b863-4bf3-9887-ac6389322a99",
   "metadata": {},
   "source": [
    "## 1. Diccionarios"
   ]
  },
  {
   "cell_type": "markdown",
   "id": "cce1fa3c-9145-4499-a17a-81f40fb5dd8e",
   "metadata": {},
   "source": [
    "Un diccionario es una estructura de datos que te permite almacenar y organizar datos en forma de pares llave-valor."
   ]
  },
  {
   "cell_type": "markdown",
   "id": "4ed4420e-e0ab-402b-baae-3758f837346e",
   "metadata": {},
   "source": [
    "1. Pares llave-valor: Cada elemento en un diccionario tiene una llave única que se asocia con un valor. Las llaves pueden ser cadenas de texto, números, booleanos o incluso otros diccionarios. Los valores pueden ser cualquier tipo de dato en Python.\n",
    "2. Acceso rápido: Los diccionarios son muy eficientes para acceder a datos por su llave. Puedes usar la sintaxis **diccionario[llave]** para obtener el valor asociado a una llave específica.\n",
    "3. Modificables: Puedes agregar, eliminar o modificar elementos en un diccionario de forma dinámica.\n",
    "4. No ordenados: Los diccionarios no son ordenados por defecto."
   ]
  },
  {
   "cell_type": "code",
   "execution_count": 20,
   "id": "00663ecf-0169-4431-9bec-63789e7ec9ba",
   "metadata": {
    "tags": []
   },
   "outputs": [
    {
     "data": {
      "text/plain": [
       "{'nombre': 'Diego', 'edad': 32, 'pais': 'Guatemala', 'Casado': True}"
      ]
     },
     "execution_count": 20,
     "metadata": {},
     "output_type": "execute_result"
    }
   ],
   "source": [
    "#diccionario vacio\n",
    "mi_diccionario ={}\n",
    "\n",
    "#diccionario con valores\n",
    "mi_diccionario={\"nombre\": \"Diego\", \n",
    "                \"edad\": 32, \n",
    "                \"pais\": \"Guatemala\", \n",
    "                \"Casado\": True}\n",
    "\n",
    "mi_diccionario"
   ]
  },
  {
   "cell_type": "code",
   "execution_count": 12,
   "id": "e5eb561f-9a09-4d23-bab9-51353adbad61",
   "metadata": {
    "tags": []
   },
   "outputs": [
    {
     "data": {
      "text/plain": [
       "{'nombre': 'Diego',\n",
       " 'carnet': 11006956,\n",
       " 'fecha_nacimiento': '12/12/1992',\n",
       " 'programa': 'PAPD',\n",
       " 'notas': {'CDP': 90, 'EAI': 95, 'DCDW': 98}}"
      ]
     },
     "execution_count": 12,
     "metadata": {},
     "output_type": "execute_result"
    }
   ],
   "source": [
    "diccionario = {\"nombre\": \"Diego\",\n",
    "               \"carnet\": 11006956,\n",
    "               \"fecha_nacimiento\": '12/12/1992',\n",
    "               \"programa\": \"PAPD\",\n",
    "               \"notas\": {\n",
    "                   \"CDP\": 90,\n",
    "                   \"EAI\": 95,\n",
    "                   \"DCDW\": 98\n",
    "                   }\n",
    "              }\n",
    "diccionario"
   ]
  },
  {
   "cell_type": "code",
   "execution_count": 13,
   "id": "b24395ba-caa7-4bc7-952d-90d5876facdb",
   "metadata": {
    "tags": []
   },
   "outputs": [
    {
     "data": {
      "text/plain": [
       "[1, 2, 3, 5, 6]"
      ]
     },
     "execution_count": 13,
     "metadata": {},
     "output_type": "execute_result"
    }
   ],
   "source": [
    "lista = [1, 2, 3, 5, 6]\n",
    "lista"
   ]
  },
  {
   "cell_type": "markdown",
   "id": "b3bc7ebe-d8ec-4820-9686-928093d4abd3",
   "metadata": {},
   "source": [
    "*Las listas en R son equivalentes a las diccionarios en Python\n",
    "\n",
    "*Los arreglos/colecciones son equivalentes a listas en Python"
   ]
  },
  {
   "cell_type": "code",
   "execution_count": 14,
   "id": "9e642458-55bd-4f7a-8a8b-1a4d60e8c717",
   "metadata": {
    "tags": []
   },
   "outputs": [
    {
     "data": {
      "text/plain": [
       "{'SVM': 0.957, 'ANN': 0.879, 'KNN': 0.958}"
      ]
     },
     "execution_count": 14,
     "metadata": {},
     "output_type": "execute_result"
    }
   ],
   "source": [
    "#otra forma de diccion\n",
    "metricas_modelos= dict(SVM = 0.957, ANN = 0.879, KNN = 0.958)\n",
    "metricas_modelos"
   ]
  },
  {
   "cell_type": "code",
   "execution_count": 21,
   "id": "ec4ce104-75a3-40d3-b10e-d5b88f15780a",
   "metadata": {
    "tags": []
   },
   "outputs": [
    {
     "data": {
      "text/plain": [
       "{'nombre': 'Diego', 'edad': 32, 'pais': 'Guatemala', 'Casado': True}"
      ]
     },
     "execution_count": 21,
     "metadata": {},
     "output_type": "execute_result"
    }
   ],
   "source": [
    "mi_diccionario"
   ]
  },
  {
   "cell_type": "code",
   "execution_count": 22,
   "id": "449ac6a7-6cbc-4f65-ba70-2f985ada62d6",
   "metadata": {
    "tags": []
   },
   "outputs": [
    {
     "data": {
      "text/plain": [
       "'Diego'"
      ]
     },
     "execution_count": 22,
     "metadata": {},
     "output_type": "execute_result"
    }
   ],
   "source": [
    "mi_diccionario[\"nombre\"]"
   ]
  },
  {
   "cell_type": "code",
   "execution_count": 23,
   "id": "de7e8507-bb8a-449c-9596-c8888374b7a8",
   "metadata": {
    "tags": []
   },
   "outputs": [
    {
     "ename": "KeyError",
     "evalue": "0",
     "output_type": "error",
     "traceback": [
      "\u001b[1;31m---------------------------------------------------------------------------\u001b[0m",
      "\u001b[1;31mKeyError\u001b[0m                                  Traceback (most recent call last)",
      "Cell \u001b[1;32mIn[23], line 1\u001b[0m\n\u001b[1;32m----> 1\u001b[0m diccionario[\u001b[38;5;241m0\u001b[39m]\n",
      "\u001b[1;31mKeyError\u001b[0m: 0"
     ]
    }
   ],
   "source": [
    "diccionario[0]"
   ]
  },
  {
   "cell_type": "code",
   "execution_count": 24,
   "id": "9bf6e054-abe7-494d-99fd-ef0596b7d6f7",
   "metadata": {
    "tags": []
   },
   "outputs": [
    {
     "data": {
      "text/plain": [
       "{'nombre': 'Diego',\n",
       " 'carnet': 11006956,\n",
       " 'fecha_nacimiento': '12/12/1992',\n",
       " 'programa': 'PAPD',\n",
       " 'notas': {'CDP': 90, 'EAI': 95, 'DCDW': 98}}"
      ]
     },
     "execution_count": 24,
     "metadata": {},
     "output_type": "execute_result"
    }
   ],
   "source": [
    "diccionario"
   ]
  },
  {
   "cell_type": "code",
   "execution_count": 27,
   "id": "65d38ae7-e4d2-4d3d-aa16-838ffdf4de87",
   "metadata": {
    "tags": []
   },
   "outputs": [
    {
     "data": {
      "text/plain": [
       "98"
      ]
     },
     "execution_count": 27,
     "metadata": {},
     "output_type": "execute_result"
    }
   ],
   "source": [
    "diccionario[\"notas\"][\"DCDW\"]"
   ]
  },
  {
   "cell_type": "code",
   "execution_count": 29,
   "id": "b3eef233-ee73-4121-9d11-d0086038a27d",
   "metadata": {
    "tags": []
   },
   "outputs": [],
   "source": [
    "diccionario['seccion']= \"A\""
   ]
  },
  {
   "cell_type": "code",
   "execution_count": 30,
   "id": "f68de3b5-4d29-4db1-b4b2-a369699267d2",
   "metadata": {
    "tags": []
   },
   "outputs": [
    {
     "data": {
      "text/plain": [
       "{'nombre': 'Diego',\n",
       " 'carnet': 11006956,\n",
       " 'fecha_nacimiento': '12/12/1992',\n",
       " 'programa': 'PAPD',\n",
       " 'notas': {'CDP': 90, 'EAI': 95, 'DCDW': 98},\n",
       " 'seccion': 'A'}"
      ]
     },
     "execution_count": 30,
     "metadata": {},
     "output_type": "execute_result"
    }
   ],
   "source": [
    "diccionario"
   ]
  },
  {
   "cell_type": "code",
   "execution_count": 31,
   "id": "114576b5-f212-4497-a819-99329707ecc0",
   "metadata": {
    "tags": []
   },
   "outputs": [],
   "source": [
    "diccionario[\"notas\"][\"IIC\"] = 98"
   ]
  },
  {
   "cell_type": "code",
   "execution_count": 32,
   "id": "b00b7679-0639-4bb1-afdc-f103d87a02fc",
   "metadata": {
    "tags": []
   },
   "outputs": [
    {
     "data": {
      "text/plain": [
       "{'nombre': 'Diego',\n",
       " 'carnet': 11006956,\n",
       " 'fecha_nacimiento': '12/12/1992',\n",
       " 'programa': 'PAPD',\n",
       " 'notas': {'CDP': 90, 'EAI': 95, 'DCDW': 98, 'IIC': 98},\n",
       " 'seccion': 'A'}"
      ]
     },
     "execution_count": 32,
     "metadata": {},
     "output_type": "execute_result"
    }
   ],
   "source": [
    "diccionario"
   ]
  },
  {
   "cell_type": "markdown",
   "id": "3baceaf1-8649-4129-97e6-7086e242677e",
   "metadata": {},
   "source": [
    "# Operaciones"
   ]
  },
  {
   "cell_type": "code",
   "execution_count": 34,
   "id": "117f449a-f945-46b0-aa1c-f04192b40001",
   "metadata": {
    "tags": []
   },
   "outputs": [
    {
     "data": {
      "text/plain": [
       "{'nombre': 'Diego',\n",
       " 'carnet': 11006956,\n",
       " 'fecha_nacimiento': '12/12/1992',\n",
       " 'programa': 'PAPD',\n",
       " 'notas': {'CDP': 90, 'EAI': 95, 'DCDW': 98, 'IIC': 98}}"
      ]
     },
     "execution_count": 34,
     "metadata": {},
     "output_type": "execute_result"
    }
   ],
   "source": [
    "#eliminar elementos\n",
    "del diccionario[\"seccion\"]\n",
    "diccionario"
   ]
  },
  {
   "cell_type": "code",
   "execution_count": 35,
   "id": "cade5138-a659-43d3-97b1-f07ce1fe252f",
   "metadata": {
    "tags": []
   },
   "outputs": [
    {
     "data": {
      "text/plain": [
       "5"
      ]
     },
     "execution_count": 35,
     "metadata": {},
     "output_type": "execute_result"
    }
   ],
   "source": [
    "#cantidad de elementos\n",
    "len(diccionario)"
   ]
  },
  {
   "cell_type": "code",
   "execution_count": 36,
   "id": "078401a0-64d4-47ca-8ebc-4b918038557a",
   "metadata": {
    "tags": []
   },
   "outputs": [
    {
     "data": {
      "text/plain": [
       "['nombre', 'carnet', 'fecha_nacimiento', 'programa', 'notas']"
      ]
     },
     "execution_count": 36,
     "metadata": {},
     "output_type": "execute_result"
    }
   ],
   "source": [
    "#extraemos solo las llaves\n",
    "list(diccionario.keys())"
   ]
  },
  {
   "cell_type": "code",
   "execution_count": 38,
   "id": "60f2cbdd-11db-4663-9541-dfdea61b6658",
   "metadata": {
    "tags": []
   },
   "outputs": [
    {
     "data": {
      "text/plain": [
       "['Diego',\n",
       " 11006956,\n",
       " '12/12/1992',\n",
       " 'PAPD',\n",
       " {'CDP': 90, 'EAI': 95, 'DCDW': 98, 'IIC': 98}]"
      ]
     },
     "execution_count": 38,
     "metadata": {},
     "output_type": "execute_result"
    }
   ],
   "source": [
    "#extraer solo los valores\n",
    "list(diccionario.values())"
   ]
  },
  {
   "cell_type": "code",
   "execution_count": 39,
   "id": "c53629d0-d89e-4b4a-a691-72732bbf8c6e",
   "metadata": {
    "tags": []
   },
   "outputs": [
    {
     "data": {
      "text/plain": [
       "[('nombre', 'Diego'),\n",
       " ('carnet', 11006956),\n",
       " ('fecha_nacimiento', '12/12/1992'),\n",
       " ('programa', 'PAPD'),\n",
       " ('notas', {'CDP': 90, 'EAI': 95, 'DCDW': 98, 'IIC': 98})]"
      ]
     },
     "execution_count": 39,
     "metadata": {},
     "output_type": "execute_result"
    }
   ],
   "source": [
    "#devuelve una lista de pares llave-valor\n",
    "list(diccionario.items())"
   ]
  },
  {
   "cell_type": "markdown",
   "id": "d4db1721-1332-49c2-94ea-5e6b619b2b69",
   "metadata": {},
   "source": [
    "# Numpy"
   ]
  },
  {
   "cell_type": "code",
   "execution_count": 44,
   "id": "1447edb2-ccd2-4998-9154-ce03ef3afe83",
   "metadata": {
    "tags": []
   },
   "outputs": [
    {
     "name": "stdout",
     "output_type": "stream",
     "text": [
      "Collecting package metadata (current_repodata.json): ...working... done\n",
      "Solving environment: ...working... done\n",
      "\n",
      "# All requested packages already installed.\n",
      "\n"
     ]
    },
    {
     "name": "stderr",
     "output_type": "stream",
     "text": [
      "\n",
      "\n",
      "==> WARNING: A newer version of conda exists. <==\n",
      "  current version: 23.7.4\n",
      "  latest version: 24.3.0\n",
      "\n",
      "Please update conda by running\n",
      "\n",
      "    $ conda update -n base -c defaults conda\n",
      "\n",
      "Or to minimize the number of packages updated during conda update use\n",
      "\n",
      "     conda install conda=24.3.0\n",
      "\n",
      "\n"
     ]
    }
   ],
   "source": [
    "!conda install numpy --yes"
   ]
  },
  {
   "cell_type": "markdown",
   "id": "23abd484-8a52-4c2a-9046-1b9b61f7daa1",
   "metadata": {},
   "source": [
    "NumPy (abreviatura de Numerical Python) es una biblioteca de código abierto para el lenguaje de programación Python que se utiliza para la computación científica.\n",
    "\n",
    "Es la base de muchas otras bibliotecas de Python para el análisis de datos, como Pandas, SciPy, Matplotlib, SciKit Learn, Tensorflow, OpenCV entre otras."
   ]
  },
  {
   "cell_type": "markdown",
   "id": "37eafce0-dfc7-4851-9d5f-ceeaf3f0d1e2",
   "metadata": {},
   "source": [
    "## Algunas Carracteristicas:"
   ]
  },
  {
   "cell_type": "markdown",
   "id": "b89df7b0-5ea1-4451-a21f-73a6fe2ec47f",
   "metadata": {},
   "source": [
    "1. Arrays multidimensionales: NumPy ofrece una estructura de datos llamada ndarray que permite trabajar con arrays multidimensionales de forma eficiente.\n",
    "\n",
    "2. Funciones matemáticas: NumPy incluye una amplia gama de funciones matemáticas para realizar operaciones con arrays, como suma, resta, multiplicación, división, cálculo de raíces cuadradas, etc.\n",
    "\n",
    "3. Optimización: El código de NumPy está optimizado para ofrecer un alto rendimiento en operaciones con arrays."
   ]
  },
  {
   "cell_type": "code",
   "execution_count": 45,
   "id": "330805b7-22ca-4758-a31e-56a8139ec771",
   "metadata": {
    "tags": []
   },
   "outputs": [],
   "source": [
    "import numpy as np #acortamos el nombre de la libreria."
   ]
  },
  {
   "cell_type": "code",
   "execution_count": 46,
   "id": "563d9935-87ad-43bb-a21f-4f62b08668d3",
   "metadata": {
    "tags": []
   },
   "outputs": [
    {
     "data": {
      "text/plain": [
       "array([10, 20, 30, 40, 50, 60])"
      ]
     },
     "execution_count": 46,
     "metadata": {},
     "output_type": "execute_result"
    }
   ],
   "source": [
    "#creamos arreglo de numpy\n",
    "# tipos de datos = int, float, bool, str.\n",
    "x= np.array([10, 20, 30, 40, 50, 60,], dtype=\"int\")\n",
    "x"
   ]
  },
  {
   "cell_type": "code",
   "execution_count": 49,
   "id": "56ac9c48-cec3-4d70-b0e7-7ad452e968d9",
   "metadata": {
    "tags": []
   },
   "outputs": [
    {
     "data": {
      "text/plain": [
       "array([ 1,  2,  3,  4,  5,  6,  7,  8,  9, 10, 11, 12, 13, 14, 15, 16, 17,\n",
       "       18, 19, 20])"
      ]
     },
     "execution_count": 49,
     "metadata": {},
     "output_type": "execute_result"
    }
   ],
   "source": [
    "#creamos un array en secucia de 1 a 20 con step\n",
    "y = np.arange(1, 21, 1)\n",
    "y"
   ]
  },
  {
   "cell_type": "code",
   "execution_count": 50,
   "id": "8c26dad3-3d24-4c16-9a31-358a3858bf16",
   "metadata": {
    "tags": []
   },
   "outputs": [
    {
     "data": {
      "text/plain": [
       "array([ 0.  ,  2.75,  5.5 ,  8.25, 11.  ])"
      ]
     },
     "execution_count": 50,
     "metadata": {},
     "output_type": "execute_result"
    }
   ],
   "source": [
    "#creamos un arreglo en secuencia de 0 a 10 generando 5 valores en el rango\n",
    "el step seria 1/(max - min)+1)\n",
    "z = np.linspace(0,11,5)\n",
    "z"
   ]
  },
  {
   "cell_type": "code",
   "execution_count": 51,
   "id": "91935929-b768-42b1-be84-3cb2dfff560c",
   "metadata": {
    "tags": []
   },
   "outputs": [
    {
     "data": {
      "text/plain": [
       "array([[0., 0., 0., 0., 0., 0., 0., 0., 0., 0.],\n",
       "       [0., 0., 0., 0., 0., 0., 0., 0., 0., 0.],\n",
       "       [0., 0., 0., 0., 0., 0., 0., 0., 0., 0.],\n",
       "       [0., 0., 0., 0., 0., 0., 0., 0., 0., 0.],\n",
       "       [0., 0., 0., 0., 0., 0., 0., 0., 0., 0.],\n",
       "       [0., 0., 0., 0., 0., 0., 0., 0., 0., 0.],\n",
       "       [0., 0., 0., 0., 0., 0., 0., 0., 0., 0.],\n",
       "       [0., 0., 0., 0., 0., 0., 0., 0., 0., 0.],\n",
       "       [0., 0., 0., 0., 0., 0., 0., 0., 0., 0.],\n",
       "       [0., 0., 0., 0., 0., 0., 0., 0., 0., 0.]])"
      ]
     },
     "execution_count": 51,
     "metadata": {},
     "output_type": "execute_result"
    }
   ],
   "source": [
    "#creamos arraglos lleno de cero\n",
    "x= np.zeros((10,10))\n",
    "x"
   ]
  },
  {
   "cell_type": "code",
   "execution_count": 52,
   "id": "d87695e8-85da-4a3d-97e1-54e48de268db",
   "metadata": {
    "tags": []
   },
   "outputs": [
    {
     "data": {
      "text/plain": [
       "array([[1., 1., 1., 1., 1.],\n",
       "       [1., 1., 1., 1., 1.],\n",
       "       [1., 1., 1., 1., 1.],\n",
       "       [1., 1., 1., 1., 1.],\n",
       "       [1., 1., 1., 1., 1.]])"
      ]
     },
     "execution_count": 52,
     "metadata": {},
     "output_type": "execute_result"
    }
   ],
   "source": [
    "#creamos arraglos lleno de unos\n",
    "x= np.ones((5,5))\n",
    "x"
   ]
  },
  {
   "cell_type": "code",
   "execution_count": 54,
   "id": "131f3b7a-792f-4af3-915a-5694d69f6a59",
   "metadata": {
    "tags": []
   },
   "outputs": [
    {
     "data": {
      "text/plain": [
       "array([[1., 1., 1., 1., 1.],\n",
       "       [1., 1., 1., 1., 1.],\n",
       "       [1., 1., 1., 1., 1.],\n",
       "       [1., 1., 1., 1., 1.],\n",
       "       [1., 1., 1., 1., 1.]])"
      ]
     },
     "execution_count": 54,
     "metadata": {},
     "output_type": "execute_result"
    }
   ],
   "source": [
    "y= np.empty((5,5))\n",
    "y"
   ]
  },
  {
   "cell_type": "code",
   "execution_count": 55,
   "id": "ee1bb01f-74b9-493f-a685-206ea7fc3534",
   "metadata": {
    "tags": []
   },
   "outputs": [
    {
     "data": {
      "text/plain": [
       "array([3, 2, 6, 2, 6])"
      ]
     },
     "execution_count": 55,
     "metadata": {},
     "output_type": "execute_result"
    }
   ],
   "source": [
    "z = np.random.randint(1,10,5)\n",
    "z"
   ]
  },
  {
   "cell_type": "code",
   "execution_count": 65,
   "id": "6255fd19-6f22-40c6-b6dd-56916674a16b",
   "metadata": {
    "tags": []
   },
   "outputs": [
    {
     "name": "stdout",
     "output_type": "stream",
     "text": [
      "5G3W6B3L1I1P0P\n"
     ]
    }
   ],
   "source": [
    "## para el proyecto\n",
    "z= np.random.randint(65,90,7)\n",
    "codigo =\"\"\n",
    "suma = 0\n",
    "for i in z:\n",
    "    numero = str(np.random.randint(0,9,1)[0])\n",
    "    #suma = suma + numero\n",
    "    codigo = codigo + numero + chr(i)\n",
    "#if para los proximos numeros\n",
    "print (codigo)"
   ]
  },
  {
   "cell_type": "markdown",
   "id": "82a3b12f-2778-4249-8c15-2bf30f8f5af1",
   "metadata": {},
   "source": [
    "# rangos y dimensiones"
   ]
  },
  {
   "cell_type": "code",
   "execution_count": 66,
   "id": "d69a5ac1-fc7a-48b5-abd5-b5607f895c55",
   "metadata": {
    "tags": []
   },
   "outputs": [
    {
     "data": {
      "text/plain": [
       "array([[10, 20, 30, 40, 50],\n",
       "       [15, 25, 35, 45, 55]])"
      ]
     },
     "execution_count": 66,
     "metadata": {},
     "output_type": "execute_result"
    }
   ],
   "source": [
    "y = np.array([[10,20,30,40,50],[15,25,35,45,55]])\n",
    "y"
   ]
  },
  {
   "cell_type": "code",
   "execution_count": 68,
   "id": "7235d6a5-50b9-41f0-bc75-ceadc3aa274a",
   "metadata": {
    "tags": []
   },
   "outputs": [
    {
     "name": "stdout",
     "output_type": "stream",
     "text": [
      "El tensor es de rango 2 y dimensiones (2, 5)\n"
     ]
    }
   ],
   "source": [
    "rango = y.ndim\n",
    "dimension = y.shape\n",
    "print (f\"El tensor es de rango {rango} y dimensiones {dimension}\")"
   ]
  },
  {
   "cell_type": "code",
   "execution_count": 69,
   "id": "40a2bffe-40a8-41f5-bbf3-6777a077f978",
   "metadata": {
    "tags": []
   },
   "outputs": [
    {
     "data": {
      "text/plain": [
       "45"
      ]
     },
     "execution_count": 69,
     "metadata": {},
     "output_type": "execute_result"
    }
   ],
   "source": [
    "y[1,3]"
   ]
  },
  {
   "cell_type": "code",
   "execution_count": 74,
   "id": "056f838f-4af2-4827-aced-0878af3535c7",
   "metadata": {
    "tags": []
   },
   "outputs": [
    {
     "data": {
      "text/plain": [
       "array([[[ 10,  20,  30,  40,  50],\n",
       "        [ 33,  44,  55,  66,  77]],\n",
       "\n",
       "       [[111, 222, 333, 444, 555],\n",
       "        [777, 888, 999, 232, 656]]])"
      ]
     },
     "execution_count": 74,
     "metadata": {},
     "output_type": "execute_result"
    }
   ],
   "source": [
    "x = np.array([[[10,20,30,40,50], [33,44,55,66, 77]], [[111, 222,333,444, 555], [777,888, 999,232, 656]]])\n",
    "x"
   ]
  },
  {
   "cell_type": "code",
   "execution_count": 75,
   "id": "90738140-d622-4da3-84d9-129f7fe1610a",
   "metadata": {
    "tags": []
   },
   "outputs": [
    {
     "data": {
      "text/plain": [
       "3"
      ]
     },
     "execution_count": 75,
     "metadata": {},
     "output_type": "execute_result"
    }
   ],
   "source": [
    "x.ndim"
   ]
  },
  {
   "cell_type": "code",
   "execution_count": 76,
   "id": "670ad6b1-3240-452b-b704-cdfa493a5d77",
   "metadata": {
    "tags": []
   },
   "outputs": [
    {
     "data": {
      "text/plain": [
       "(2, 2, 5)"
      ]
     },
     "execution_count": 76,
     "metadata": {},
     "output_type": "execute_result"
    }
   ],
   "source": [
    "x.shape"
   ]
  },
  {
   "cell_type": "code",
   "execution_count": 78,
   "id": "1dddac62-83fb-4b0f-8535-70e3d0e54ed1",
   "metadata": {
    "tags": []
   },
   "outputs": [
    {
     "data": {
      "text/plain": [
       "999"
      ]
     },
     "execution_count": 78,
     "metadata": {},
     "output_type": "execute_result"
    }
   ],
   "source": [
    "x[1,1,2]"
   ]
  },
  {
   "cell_type": "code",
   "execution_count": null,
   "id": "4a2eadce-e976-42b0-b19a-c0827687d12c",
   "metadata": {},
   "outputs": [],
   "source": []
  }
 ],
 "metadata": {
  "kernelspec": {
   "display_name": "Python 3 (ipykernel)",
   "language": "python",
   "name": "python3"
  },
  "language_info": {
   "codemirror_mode": {
    "name": "ipython",
    "version": 3
   },
   "file_extension": ".py",
   "mimetype": "text/x-python",
   "name": "python",
   "nbconvert_exporter": "python",
   "pygments_lexer": "ipython3",
   "version": "3.11.5"
  }
 },
 "nbformat": 4,
 "nbformat_minor": 5
}
