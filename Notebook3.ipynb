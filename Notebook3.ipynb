{
 "cells": [
  {
   "cell_type": "markdown",
   "id": "88a01123-7ca8-43fa-8796-c1dc8bbea03f",
   "metadata": {},
   "source": [
    "# Listas"
   ]
  },
  {
   "cell_type": "markdown",
   "id": "2532ac3f-951d-476e-ba1a-d83d4da9e002",
   "metadata": {
    "tags": []
   },
   "source": [
    "1. Es dinamica\n",
    "2. Es indexable\n",
    "3. Puede contener diveretes tipos de datos\n"
   ]
  },
  {
   "cell_type": "code",
   "execution_count": 27,
   "id": "35776bec-19ea-49e7-95b0-637faa224fff",
   "metadata": {
    "tags": []
   },
   "outputs": [
    {
     "data": {
      "text/plain": [
       "[10, 20, 30, 40, 50, 60]"
      ]
     },
     "execution_count": 27,
     "metadata": {},
     "output_type": "execute_result"
    }
   ],
   "source": [
    "lista = [ 10, 20, 30, 40, 50, 60]\n",
    "lista"
   ]
  },
  {
   "cell_type": "code",
   "execution_count": 28,
   "id": "ed5b2d93-4f6d-407e-a9ba-e1a5a580b897",
   "metadata": {
    "tags": []
   },
   "outputs": [
    {
     "data": {
      "text/plain": [
       "[10, 20, 30, 40, 50, 60, 'Galileo']"
      ]
     },
     "execution_count": 28,
     "metadata": {},
     "output_type": "execute_result"
    }
   ],
   "source": [
    "lista.append(\"Galileo\")\n",
    "lista"
   ]
  },
  {
   "cell_type": "code",
   "execution_count": 29,
   "id": "a7a73701-5bba-4014-9520-8d95c66867d0",
   "metadata": {
    "tags": []
   },
   "outputs": [
    {
     "data": {
      "text/plain": [
       "[10, 20, 'IIO', 30, 40, 50, 60, 'Galileo']"
      ]
     },
     "execution_count": 29,
     "metadata": {},
     "output_type": "execute_result"
    }
   ],
   "source": [
    "lista.insert(2,\"IIO\")\n",
    "lista"
   ]
  },
  {
   "cell_type": "code",
   "execution_count": 30,
   "id": "5fd6a740-42e0-49ec-a9b7-3155072a0179",
   "metadata": {
    "tags": []
   },
   "outputs": [
    {
     "data": {
      "text/plain": [
       "10"
      ]
     },
     "execution_count": 30,
     "metadata": {},
     "output_type": "execute_result"
    }
   ],
   "source": [
    "lista[0]"
   ]
  },
  {
   "cell_type": "code",
   "execution_count": 31,
   "id": "b9eb64ba-ecf4-4c85-8a7f-914b3a2de62b",
   "metadata": {
    "tags": []
   },
   "outputs": [
    {
     "data": {
      "text/plain": [
       "60"
      ]
     },
     "execution_count": 31,
     "metadata": {},
     "output_type": "execute_result"
    }
   ],
   "source": [
    "lista[6]"
   ]
  },
  {
   "cell_type": "code",
   "execution_count": 32,
   "id": "709ba34b-6a73-44bf-b0cd-6080403cb5e8",
   "metadata": {
    "tags": []
   },
   "outputs": [
    {
     "data": {
      "text/plain": [
       "['IIO', 30, 40, 50]"
      ]
     },
     "execution_count": 32,
     "metadata": {},
     "output_type": "execute_result"
    }
   ],
   "source": [
    "lista[2:6] #sublista"
   ]
  },
  {
   "cell_type": "code",
   "execution_count": 33,
   "id": "96912877-b4c5-438f-9c30-3bbb233e24f3",
   "metadata": {
    "tags": []
   },
   "outputs": [
    {
     "data": {
      "text/plain": [
       "[10, 'IIO', 40]"
      ]
     },
     "execution_count": 33,
     "metadata": {},
     "output_type": "execute_result"
    }
   ],
   "source": [
    "lista[0:6:2]"
   ]
  },
  {
   "cell_type": "code",
   "execution_count": 34,
   "id": "109af9ad-3334-440d-be1e-334e30354253",
   "metadata": {
    "tags": []
   },
   "outputs": [
    {
     "data": {
      "text/plain": [
       "30"
      ]
     },
     "execution_count": 34,
     "metadata": {},
     "output_type": "execute_result"
    }
   ],
   "source": [
    "valor_eliminado = lista.pop(3) #elimina el elemento en la lista en la posision3\n",
    "valor_eliminado"
   ]
  },
  {
   "cell_type": "code",
   "execution_count": 18,
   "id": "6e63686b-b4bb-4a0b-9f30-781126e5d98c",
   "metadata": {
    "tags": []
   },
   "outputs": [
    {
     "data": {
      "text/plain": [
       "[10, 20, 'IIO', 60, 'Galileo']"
      ]
     },
     "execution_count": 18,
     "metadata": {},
     "output_type": "execute_result"
    }
   ],
   "source": [
    "lista"
   ]
  },
  {
   "cell_type": "code",
   "execution_count": 35,
   "id": "fa42c81b-0099-4cb4-a8a0-fa09b650283c",
   "metadata": {
    "tags": []
   },
   "outputs": [
    {
     "data": {
      "text/plain": [
       "[10, 20, 'IIO', 40, 50, 60]"
      ]
     },
     "execution_count": 35,
     "metadata": {},
     "output_type": "execute_result"
    }
   ],
   "source": [
    "lista.remove(\"Galileo\") # elimina el elemento en funcion del valor\n",
    "lista"
   ]
  },
  {
   "cell_type": "code",
   "execution_count": 36,
   "id": "ce83d389-2974-46a4-b6bd-3aa905008ce4",
   "metadata": {
    "tags": []
   },
   "outputs": [],
   "source": [
    "del lista[2] # funciona igual que el .pop sin devolver el valor"
   ]
  },
  {
   "cell_type": "code",
   "execution_count": 37,
   "id": "b3417535-52a7-4779-9035-e8bc772eab5b",
   "metadata": {
    "tags": []
   },
   "outputs": [
    {
     "data": {
      "text/plain": [
       "[10, 20, 40, 50, 60]"
      ]
     },
     "execution_count": 37,
     "metadata": {},
     "output_type": "execute_result"
    }
   ],
   "source": [
    "lista"
   ]
  },
  {
   "cell_type": "code",
   "execution_count": 38,
   "id": "b17f6b1d-b2d8-449b-b8a7-995d18d1d744",
   "metadata": {
    "tags": []
   },
   "outputs": [
    {
     "data": {
      "text/plain": [
       "5"
      ]
     },
     "execution_count": 38,
     "metadata": {},
     "output_type": "execute_result"
    }
   ],
   "source": [
    "len(lista) # cuenta la cantidad de elementos de un iterable"
   ]
  },
  {
   "cell_type": "code",
   "execution_count": 40,
   "id": "04eb6321-df40-401a-afea-37611c814421",
   "metadata": {
    "tags": []
   },
   "outputs": [
    {
     "data": {
      "text/plain": [
       "1"
      ]
     },
     "execution_count": 40,
     "metadata": {},
     "output_type": "execute_result"
    }
   ],
   "source": [
    "lista.count(20)"
   ]
  },
  {
   "cell_type": "code",
   "execution_count": 41,
   "id": "85f16049-f21a-4b4b-9cd4-2a899b80781d",
   "metadata": {
    "tags": []
   },
   "outputs": [
    {
     "data": {
      "text/plain": [
       "False"
      ]
     },
     "execution_count": 41,
     "metadata": {},
     "output_type": "execute_result"
    }
   ],
   "source": [
    "90 in lista #exite el elemnto 90 en lista?"
   ]
  },
  {
   "cell_type": "code",
   "execution_count": 46,
   "id": "25db7d5f-2196-4baa-8418-7abd07bc8cc5",
   "metadata": {
    "tags": []
   },
   "outputs": [
    {
     "name": "stdout",
     "output_type": "stream",
     "text": [
      "existe 6 veces, 60 en la lista\n"
     ]
    }
   ],
   "source": [
    "lista=[10,20,60,30,40,50,60,60,60,70,80,60,90,100,60]\n",
    "print(f\"existe {lista.count(60)} veces, 60 en la lista\")"
   ]
  },
  {
   "cell_type": "code",
   "execution_count": 48,
   "id": "20b9f37c-14dd-4f46-97cd-cf0a592b942b",
   "metadata": {
    "tags": []
   },
   "outputs": [
    {
     "name": "stdout",
     "output_type": "stream",
     "text": [
      "Eliminado un 60\n",
      "Eliminado un 60\n",
      "Eliminado un 60\n",
      "Eliminado un 60\n",
      "Eliminado un 60\n",
      "Eliminado un 60\n"
     ]
    },
    {
     "data": {
      "text/plain": [
       "[10, 20, 30, 40, 50, 70, 80, 90, 100]"
      ]
     },
     "execution_count": 48,
     "metadata": {},
     "output_type": "execute_result"
    }
   ],
   "source": [
    "while(60 in lista):\n",
    "    lista.remove(60)\n",
    "    print(\"Eliminado un 60\")\n",
    "lista\n"
   ]
  },
  {
   "cell_type": "markdown",
   "id": "00536aaf-1257-45a7-a02e-24f112df6ebb",
   "metadata": {},
   "source": [
    "# eliminamos duplicados\n",
    "while(lista.count(60) !=1)\n",
    "    lista.remove(60)\n",
    "    print(\"Elimiando un 60\")\n",
    "lista"
   ]
  },
  {
   "cell_type": "code",
   "execution_count": 49,
   "id": "0277c2ef-3504-4f5e-8288-f4557e65c234",
   "metadata": {
    "tags": []
   },
   "outputs": [
    {
     "data": {
      "text/plain": [
       "[3, 5, 8, 10, 12, 20, 35, 52, 60, 63, 96, 100]"
      ]
     },
     "execution_count": 49,
     "metadata": {},
     "output_type": "execute_result"
    }
   ],
   "source": [
    "lista= [20,3,10,5,60,35,100,8,96,63,12,52]\n",
    "lista.sort() #ordena la lista de menor a mayor\n",
    "lista"
   ]
  },
  {
   "cell_type": "code",
   "execution_count": 50,
   "id": "a8f60df8-aab5-4b66-94eb-fdf8582e4f51",
   "metadata": {
    "tags": []
   },
   "outputs": [
    {
     "data": {
      "text/plain": [
       "[100, 96, 63, 60, 52, 35, 20, 12, 10, 8, 5, 3]"
      ]
     },
     "execution_count": 50,
     "metadata": {},
     "output_type": "execute_result"
    }
   ],
   "source": [
    "lista= [20,3,10,5,60,35,100,8,96,63,12,52]\n",
    "lista.sort(reverse=True) #ordena la lista de mayor a menor\n",
    "lista"
   ]
  },
  {
   "cell_type": "markdown",
   "id": "90dfa75a-5089-40f1-a020-b29323c3043b",
   "metadata": {
    "tags": []
   },
   "source": [
    "# 3. Ciclo For"
   ]
  },
  {
   "cell_type": "code",
   "execution_count": 53,
   "id": "e5d54f89-f18d-46f6-b434-3a4a0b60431d",
   "metadata": {
    "tags": []
   },
   "outputs": [
    {
     "name": "stdout",
     "output_type": "stream",
     "text": [
      "10\n",
      "20\n",
      "30\n",
      "40\n",
      "50\n",
      "60\n"
     ]
    }
   ],
   "source": [
    "lista = [10,20,30,40,50,60]\n",
    "for valor in lista:\n",
    "    print(valor)"
   ]
  },
  {
   "cell_type": "code",
   "execution_count": 55,
   "id": "a4a50ed3-a4eb-4b59-ae61-38c1b5901a97",
   "metadata": {
    "tags": []
   },
   "outputs": [
    {
     "name": "stdout",
     "output_type": "stream",
     "text": [
      "Cambio de Iteracion\n",
      "0 + 10 =  10\n",
      "\n",
      "\n",
      "Cambio de Iteracion\n",
      "10 + 20 =  30\n",
      "\n",
      "\n",
      "Cambio de Iteracion\n",
      "30 + 30 =  60\n",
      "\n",
      "\n",
      "Cambio de Iteracion\n",
      "60 + 40 =  100\n",
      "\n",
      "\n",
      "Cambio de Iteracion\n",
      "100 + 50 =  150\n",
      "\n",
      "\n",
      "Cambio de Iteracion\n",
      "150 + 60 =  210\n",
      "\n",
      "\n"
     ]
    },
    {
     "data": {
      "text/plain": [
       "210"
      ]
     },
     "execution_count": 55,
     "metadata": {},
     "output_type": "execute_result"
    }
   ],
   "source": [
    "lista = [10,20,30,40,50,60]\n",
    "acc=0\n",
    "\n",
    "for valor in lista:\n",
    "    print(\"Cambio de Iteracion\")\n",
    "    print(f\"{acc} + {valor} = \", acc+valor)\n",
    "    acc= acc + valor\n",
    "    print(\"\\n\")\n",
    "acc "
   ]
  },
  {
   "cell_type": "code",
   "execution_count": 59,
   "id": "49ffec58-a5cc-42b0-bfa7-9a79779713eb",
   "metadata": {
    "tags": []
   },
   "outputs": [
    {
     "name": "stdout",
     "output_type": "stream",
     "text": [
      "Sumatoria: 210\n",
      "Promedio: 35.0\n"
     ]
    }
   ],
   "source": [
    "lista = [10,20,30,40,50,60]\n",
    "acc=0\n",
    "n = len(lista)\n",
    "for valor in lista:\n",
    "    acc= acc + valor\n",
    "prom = acc/n\n",
    "print(\"Sumatoria:\", acc)\n",
    "print(\"Promedio:\", prom)"
   ]
  },
  {
   "cell_type": "code",
   "execution_count": 61,
   "id": "c5eaf288-dece-47d3-b19e-2654a5516ec3",
   "metadata": {
    "tags": []
   },
   "outputs": [],
   "source": [
    "lista = [10,20,30,40,50,60]\n",
    "def get_sum_mean(lista):\n",
    "    acc=0\n",
    "    n = len(lista)\n",
    "    for valor in lista:\n",
    "        acc= acc + valor\n",
    "    prom = acc/n\n",
    "    return acc, prom"
   ]
  },
  {
   "cell_type": "code",
   "execution_count": 65,
   "id": "db76c144-1b7e-4431-8f6b-716ee0e71735",
   "metadata": {
    "tags": []
   },
   "outputs": [
    {
     "name": "stdout",
     "output_type": "stream",
     "text": [
      "sumatoria: 210\n",
      "promedio: 53.92857142857143\n"
     ]
    }
   ],
   "source": [
    "lista = [ 10,20,30,40,50,60]\n",
    "suma, media = get_sum_mean(lista)\n",
    "print(\"sumatoria:\", suma)\n",
    "print(\"promedio:\", promedio)"
   ]
  },
  {
   "cell_type": "code",
   "execution_count": 72,
   "id": "9f2c9f9e-5829-4c57-a37c-94d7d718089e",
   "metadata": {
    "tags": []
   },
   "outputs": [],
   "source": [
    "## Ejercicio, calcular la varianza de la lista.\n",
    "lista =  [10, 52, 56, 85, 95, 41, 52, 63, 23, 78, 98, 41, 56, 5]\n",
    "\n",
    "def calc_varianza(lista):\n",
    "    suma, media = get_sum_mean(lista)\n",
    "    acc = 0\n",
    "    n= len(lista)\n",
    "\n",
    "    for valor in lista:\n",
    "        acc = acc + (valor - media)**2\n",
    "\n",
    "    varianza = acc/n\n",
    "    return varianza"
   ]
  },
  {
   "cell_type": "code",
   "execution_count": 73,
   "id": "70e7fe43-33e4-4c54-bb96-2b56aa2f7a81",
   "metadata": {
    "tags": []
   },
   "outputs": [
    {
     "data": {
      "text/plain": [
       "777.6377551020408"
      ]
     },
     "execution_count": 73,
     "metadata": {},
     "output_type": "execute_result"
    }
   ],
   "source": [
    "lista =  [10, 52, 56, 85, 95, 41, 52, 63, 23, 78, 98, 41, 56, 5]\n",
    "calc_varianza(lista)"
   ]
  },
  {
   "cell_type": "code",
   "execution_count": 74,
   "id": "d5f9fa37-2f8d-467b-a946-9e19286b5a8c",
   "metadata": {
    "tags": []
   },
   "outputs": [
    {
     "data": {
      "text/plain": [
       "885.8400000000001"
      ]
     },
     "execution_count": 74,
     "metadata": {},
     "output_type": "execute_result"
    }
   ],
   "source": [
    "lista =  [10, 52, 56, 85, 95]\n",
    "calc_varianza(lista)"
   ]
  },
  {
   "cell_type": "code",
   "execution_count": 75,
   "id": "1f04f3f9-823a-4147-871d-5f38fa1d0e36",
   "metadata": {
    "tags": []
   },
   "outputs": [],
   "source": [
    "# Ejercico 3\n",
    "letra = 'a'\n",
    "texto = 'La ciencia de datos es el estudio de datos con el fin de extraer información significativa para empresas. Es un enfoque multidisciplinario que combina principios y prácticas del campo de las matemáticas, la estadística, la inteligencia artificial y la ingeniería de computación para analizar grandes cantidades de datos. Este análisis permite que los científicos de datos planteen y respondan a preguntas como “qué pasó”, “por qué pasó”, “qué pasará” y “qué se puede hacer con los resultados”.'\n"
   ]
  },
  {
   "cell_type": "code",
   "execution_count": 81,
   "id": "d27c23bd-df78-4f64-9043-b5124f4f6f51",
   "metadata": {
    "tags": []
   },
   "outputs": [],
   "source": [
    "def contar_letras(letra, texto):\n",
    "    cont = 0\n",
    "    for l in texto:\n",
    "        if(letra == l):\n",
    "            cont = cont + 1\n",
    "    return cont"
   ]
  },
  {
   "cell_type": "code",
   "execution_count": 82,
   "id": "96f6cdf2-77c1-4833-b4aa-27535d93f64c",
   "metadata": {
    "tags": []
   },
   "outputs": [
    {
     "data": {
      "text/plain": [
       "49"
      ]
     },
     "execution_count": 82,
     "metadata": {},
     "output_type": "execute_result"
    }
   ],
   "source": [
    "contar_letras('a', texto)"
   ]
  },
  {
   "cell_type": "code",
   "execution_count": 83,
   "id": "b6667f3d-94e2-4be6-a11f-eb66f6d33491",
   "metadata": {
    "tags": []
   },
   "outputs": [
    {
     "data": {
      "text/plain": [
       "1"
      ]
     },
     "execution_count": 83,
     "metadata": {},
     "output_type": "execute_result"
    }
   ],
   "source": [
    "contar_letras('z', texto)"
   ]
  },
  {
   "cell_type": "code",
   "execution_count": null,
   "id": "8101b000-f1a6-4609-aaad-cef71353a383",
   "metadata": {},
   "outputs": [],
   "source": []
  }
 ],
 "metadata": {
  "kernelspec": {
   "display_name": "Python 3 (ipykernel)",
   "language": "python",
   "name": "python3"
  },
  "language_info": {
   "codemirror_mode": {
    "name": "ipython",
    "version": 3
   },
   "file_extension": ".py",
   "mimetype": "text/x-python",
   "name": "python",
   "nbconvert_exporter": "python",
   "pygments_lexer": "ipython3",
   "version": "3.11.5"
  }
 },
 "nbformat": 4,
 "nbformat_minor": 5
}
