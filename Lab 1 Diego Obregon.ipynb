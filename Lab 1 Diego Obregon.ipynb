{
 "cells": [
  {
   "cell_type": "markdown",
   "id": "6fed1fa5-d239-420e-9dd9-238832cd1e94",
   "metadata": {},
   "source": [
    "# Laboratorio 1 - Diego Obregon"
   ]
  },
  {
   "cell_type": "markdown",
   "id": "f7c96235-3d33-40cb-b78f-0a032436ef99",
   "metadata": {},
   "source": [
    "##### Git y GitHub son dos herramientas clave para el desarrollo de software, pero con roles distintos.\n",
    "\n",
    "##### Git: un sistema de control de versiones que te permite realizar un seguimiento de los cambios en tu código y colaborar con otros.\n",
    "\n",
    "##### GitHub: una plataforma de alojamiento para repositorios Git que ofrece funcionalidades adicionales como la revisión de código, la gestión de proyectos y la integración con otras herramientas."
   ]
  },
  {
   "cell_type": "markdown",
   "id": "1b93d85d-9ab3-4345-ac90-d76f0cf2600e",
   "metadata": {},
   "source": [
    "## Qué es git?"
   ]
  },
  {
   "cell_type": "markdown",
   "id": "c964bde2-ece4-41fb-8ca9-f70604181716",
   "metadata": {},
   "source": [
    "##### Git es un sistema de control de versiones distribuido que permite a los desarrolladores rastrear y gestionar cambios en el código fuente de manera eficiente. Facilita la colaboración entre múltiples desarrolladores, permitiendo trabajar en distintas ramas de un proyecto simultáneamente sin conflictos."
   ]
  },
  {
   "cell_type": "markdown",
   "id": "d1e978b0-e844-4710-96b9-e9c876341e26",
   "metadata": {},
   "source": [
    "## Qué es github?"
   ]
  },
  {
   "cell_type": "markdown",
   "id": "77c5e283-eb0b-46e8-9eb8-79463611a7cb",
   "metadata": {},
   "source": [
    "##### GitHub es una plataforma de hospedaje para repositorios Git que ofrece todas las funcionalidades de Git junto con características adicionales. Actúa como un espacio de colaboración en la nube, facilitando el trabajo en equipo, la revisión de código, la gestión de proyectos y la integración con otras herramientas."
   ]
  },
  {
   "cell_type": "markdown",
   "id": "245010bb-5da5-4a28-8552-ec5fd24ec50a",
   "metadata": {},
   "source": [
    "## MagicCells"
   ]
  },
  {
   "cell_type": "markdown",
   "id": "f0464afc-a3ce-425b-a13b-69fd6cf24305",
   "metadata": {},
   "source": [
    "##### MagicCells es una biblioteca de JavaScript que te permite crear interfaces de usuario interactivas y animadas. ayuda facilitando la construcción de aplicaciones web dinámicas y atractivas con componentes reutilizables y personalizables."
   ]
  },
  {
   "cell_type": "code",
   "execution_count": null,
   "id": "eb7fd6d0-469b-41d6-aff0-bdf0fdff1374",
   "metadata": {},
   "outputs": [],
   "source": []
  }
 ],
 "metadata": {
  "kernelspec": {
   "display_name": "Python 3 (ipykernel)",
   "language": "python",
   "name": "python3"
  },
  "language_info": {
   "codemirror_mode": {
    "name": "ipython",
    "version": 3
   },
   "file_extension": ".py",
   "mimetype": "text/x-python",
   "name": "python",
   "nbconvert_exporter": "python",
   "pygments_lexer": "ipython3",
   "version": "3.11.5"
  }
 },
 "nbformat": 4,
 "nbformat_minor": 5
}
