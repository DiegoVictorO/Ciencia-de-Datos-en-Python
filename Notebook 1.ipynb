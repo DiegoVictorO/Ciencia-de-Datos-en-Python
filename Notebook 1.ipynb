{
 "cells": [
  {
   "cell_type": "markdown",
   "id": "9ec418b8-7203-42a1-89d4-1eea49bbf41a",
   "metadata": {
    "tags": []
   },
   "source": [
    "# 1. Operaciones Básicas"
   ]
  },
  {
   "cell_type": "code",
   "execution_count": 1,
   "id": "13b0f41e-b92e-4b57-b03b-2d4813c9b1e7",
   "metadata": {
    "tags": []
   },
   "outputs": [
    {
     "data": {
      "text/plain": [
       "7"
      ]
     },
     "execution_count": 1,
     "metadata": {},
     "output_type": "execute_result"
    }
   ],
   "source": [
    "2+5 #suma"
   ]
  },
  {
   "cell_type": "code",
   "execution_count": 2,
   "id": "c401078a-ae87-4fb9-bd83-e1b3648aecf1",
   "metadata": {
    "tags": []
   },
   "outputs": [
    {
     "data": {
      "text/plain": [
       "2"
      ]
     },
     "execution_count": 2,
     "metadata": {},
     "output_type": "execute_result"
    }
   ],
   "source": [
    "7 - 5 # Resta"
   ]
  },
  {
   "cell_type": "code",
   "execution_count": 3,
   "id": "bd010204-80c3-4b15-a6fb-7263b1960dc9",
   "metadata": {
    "tags": []
   },
   "outputs": [
    {
     "data": {
      "text/plain": [
       "25"
      ]
     },
     "execution_count": 3,
     "metadata": {},
     "output_type": "execute_result"
    }
   ],
   "source": [
    "5 * 5 # Multiplicacion"
   ]
  },
  {
   "cell_type": "code",
   "execution_count": 5,
   "id": "009278a3-bdb5-4a19-b93b-48df07480008",
   "metadata": {
    "tags": []
   },
   "outputs": [
    {
     "data": {
      "text/plain": [
       "0.625"
      ]
     },
     "execution_count": 5,
     "metadata": {},
     "output_type": "execute_result"
    }
   ],
   "source": [
    "5 / 8 # Dividido"
   ]
  },
  {
   "cell_type": "code",
   "execution_count": 6,
   "id": "46d4577f-4424-493c-865e-7eab61d8e032",
   "metadata": {
    "tags": []
   },
   "outputs": [
    {
     "data": {
      "text/plain": [
       "3"
      ]
     },
     "execution_count": 6,
     "metadata": {},
     "output_type": "execute_result"
    }
   ],
   "source": [
    "17 // 5 # Divicion entera, los decimales los elimina"
   ]
  },
  {
   "cell_type": "code",
   "execution_count": 7,
   "id": "65568863-9562-4ee6-acda-15e495a424c1",
   "metadata": {
    "tags": []
   },
   "outputs": [
    {
     "data": {
      "text/plain": [
       "81"
      ]
     },
     "execution_count": 7,
     "metadata": {},
     "output_type": "execute_result"
    }
   ],
   "source": [
    "3**4 # Potencia"
   ]
  },
  {
   "cell_type": "code",
   "execution_count": 8,
   "id": "5ec2fc3d-5fd5-4eaf-bc01-b4328a7fe139",
   "metadata": {
    "tags": []
   },
   "outputs": [
    {
     "data": {
      "text/plain": [
       "2"
      ]
     },
     "execution_count": 8,
     "metadata": {},
     "output_type": "execute_result"
    }
   ],
   "source": [
    "17 % 5 #residuo o modulo"
   ]
  },
  {
   "cell_type": "code",
   "execution_count": 10,
   "id": "bdf3a7e5-6a92-4261-ba0c-3209d8a3158f",
   "metadata": {
    "tags": []
   },
   "outputs": [
    {
     "data": {
      "text/plain": [
       "2.0"
      ]
     },
     "execution_count": 10,
     "metadata": {},
     "output_type": "execute_result"
    }
   ],
   "source": [
    "import math\n",
    "math.sqrt(4)"
   ]
  },
  {
   "cell_type": "code",
   "execution_count": 14,
   "id": "0c521545-63ab-4a32-aeb8-3603cdff33d1",
   "metadata": {
    "tags": []
   },
   "outputs": [
    {
     "data": {
      "text/plain": [
       "3.0"
      ]
     },
     "execution_count": 14,
     "metadata": {},
     "output_type": "execute_result"
    }
   ],
   "source": [
    "math.pow(27,1/3) # raiz cubica "
   ]
  },
  {
   "cell_type": "code",
   "execution_count": 13,
   "id": "5edaee1c-2b2f-4767-9519-6dff86d09851",
   "metadata": {
    "tags": []
   },
   "outputs": [
    {
     "data": {
      "text/plain": [
       "3.0"
      ]
     },
     "execution_count": 13,
     "metadata": {},
     "output_type": "execute_result"
    }
   ],
   "source": [
    "math.pow(27,1/3)"
   ]
  },
  {
   "cell_type": "markdown",
   "id": "f7315c7a-a26a-4c59-a1bb-dadd47fa3835",
   "metadata": {
    "tags": []
   },
   "source": [
    "# 2. Despliegue en Pantalla"
   ]
  },
  {
   "cell_type": "code",
   "execution_count": 16,
   "id": "29c8e240-678a-4326-bf2c-d1aee6b5dba9",
   "metadata": {
    "tags": []
   },
   "outputs": [
    {
     "name": "stdout",
     "output_type": "stream",
     "text": [
      "Hola a todos\n"
     ]
    }
   ],
   "source": [
    "print (\"Hola a todos\")"
   ]
  },
  {
   "cell_type": "code",
   "execution_count": 18,
   "id": "ad7ac856-5c48-4ebb-8e64-3f4bfa91ec35",
   "metadata": {
    "tags": []
   },
   "outputs": [
    {
     "name": "stdout",
     "output_type": "stream",
     "text": [
      "hola a todos\n"
     ]
    }
   ],
   "source": [
    "a = 'hola \"a\" todos'\n",
    "print(a)"
   ]
  },
  {
   "cell_type": "code",
   "execution_count": 19,
   "id": "1f50bf8a-dca0-4b4c-b0e2-c59ce6a15cf5",
   "metadata": {
    "tags": []
   },
   "outputs": [
    {
     "name": "stdout",
     "output_type": "stream",
     "text": [
      "hola 'a' todos\n"
     ]
    }
   ],
   "source": [
    "a = \"hola 'a' todos\"\n",
    "print(a)"
   ]
  },
  {
   "cell_type": "code",
   "execution_count": 20,
   "id": "2ae3cf0c-e89b-4de1-9898-6fa90ccd2a87",
   "metadata": {
    "tags": []
   },
   "outputs": [
    {
     "data": {
      "text/plain": [
       "'Hola -Hola -Hola -Hola -Hola -'"
      ]
     },
     "execution_count": 20,
     "metadata": {},
     "output_type": "execute_result"
    }
   ],
   "source": [
    "'Hola -' *5"
   ]
  },
  {
   "cell_type": "code",
   "execution_count": 24,
   "id": "2196c631-02fd-4edc-9a30-da171825a9a1",
   "metadata": {
    "tags": []
   },
   "outputs": [
    {
     "name": "stdout",
     "output_type": "stream",
     "text": [
      "El resultado es: CINCO\n"
     ]
    }
   ],
   "source": [
    "print ( \"El resultado es: \"+\"CINCO\")"
   ]
  },
  {
   "cell_type": "code",
   "execution_count": 25,
   "id": "959c14c4-70c5-454e-9030-f26273d9146a",
   "metadata": {
    "tags": []
   },
   "outputs": [
    {
     "name": "stdout",
     "output_type": "stream",
     "text": [
      "El resultado es: 10\n"
     ]
    }
   ],
   "source": [
    "a=10\n",
    "print ( \"El resultado es: \"+ str(a))"
   ]
  },
  {
   "cell_type": "code",
   "execution_count": 26,
   "id": "92727dd2-9cb7-4246-9f36-bcdbcc73580d",
   "metadata": {
    "tags": []
   },
   "outputs": [
    {
     "name": "stdout",
     "output_type": "stream",
     "text": [
      "El resultado de 10 + 20 es: 30\n"
     ]
    }
   ],
   "source": [
    "a = 10\n",
    "b = 20\n",
    "suma = a+b\n",
    "print(\"El resultado de \" + str(a) + \" + \" + str(b) + \" es: \" + str(suma))"
   ]
  },
  {
   "cell_type": "code",
   "execution_count": 28,
   "id": "9df1e1af-38c6-4ca7-823a-d6e6f03a2c9d",
   "metadata": {
    "tags": []
   },
   "outputs": [
    {
     "name": "stdout",
     "output_type": "stream",
     "text": [
      "El resultado de 10 + 20 es 30\n"
     ]
    }
   ],
   "source": [
    "print( \"El resultado de {} + {} es {}\".format(a,b,suma)) # template literals"
   ]
  },
  {
   "cell_type": "code",
   "execution_count": 29,
   "id": "95103557-1db2-48f4-b9fc-6f508cb234d3",
   "metadata": {
    "tags": []
   },
   "outputs": [
    {
     "name": "stdout",
     "output_type": "stream",
     "text": [
      "El resultado de 10 + 20 es 30\n"
     ]
    }
   ],
   "source": [
    "print( f\"El resultado de {a} + {b} es {suma}\") "
   ]
  },
  {
   "cell_type": "code",
   "execution_count": 32,
   "id": "db271fde-da96-4009-aebb-57dc19a16cad",
   "metadata": {
    "tags": []
   },
   "outputs": [
    {
     "name": "stdin",
     "output_type": "stream",
     "text": [
      "ingrese un numero 5\n",
      "ingrese otro numero 10\n"
     ]
    },
    {
     "name": "stdout",
     "output_type": "stream",
     "text": [
      "la suma es 15\n"
     ]
    }
   ],
   "source": [
    "a = int(input(\"ingrese un numero\"))\n",
    "b = int(input(\"ingrese otro numero\"))\n",
    "\n",
    "print(f\"la suma es {a+b}\")\n"
   ]
  },
  {
   "cell_type": "markdown",
   "id": "d2e4f82b-9ca6-4df2-b9f2-71cfb00e60a5",
   "metadata": {
    "tags": []
   },
   "source": [
    "# 3. Manejo Basico de Strings"
   ]
  },
  {
   "cell_type": "code",
   "execution_count": 34,
   "id": "345ae7e1-0834-47f7-abe9-63981e34191a",
   "metadata": {
    "tags": []
   },
   "outputs": [
    {
     "data": {
      "text/plain": [
       "'Esto es un String'"
      ]
     },
     "execution_count": 34,
     "metadata": {},
     "output_type": "execute_result"
    }
   ],
   "source": [
    "miString = \"Esto es un String\"\n",
    "miString"
   ]
  },
  {
   "cell_type": "code",
   "execution_count": 36,
   "id": "d33a91be-0445-439d-b477-e242e438dfc4",
   "metadata": {
    "tags": []
   },
   "outputs": [
    {
     "data": {
      "text/plain": [
       "'s'"
      ]
     },
     "execution_count": 36,
     "metadata": {},
     "output_type": "execute_result"
    }
   ],
   "source": [
    "miString[6]"
   ]
  },
  {
   "cell_type": "code",
   "execution_count": 38,
   "id": "69bc0794-fbfc-45e0-8017-d320fe696238",
   "metadata": {
    "tags": []
   },
   "outputs": [
    {
     "data": {
      "text/plain": [
       "'Esto es u'"
      ]
     },
     "execution_count": 38,
     "metadata": {},
     "output_type": "execute_result"
    }
   ],
   "source": [
    "miString[0:9] # El limite superior no es inclusivo, solo llega asta el valor 8"
   ]
  },
  {
   "cell_type": "code",
   "execution_count": 39,
   "id": "66878057-7967-4922-84f1-d8edea12b394",
   "metadata": {
    "tags": []
   },
   "outputs": [
    {
     "data": {
      "text/plain": [
       "' String'"
      ]
     },
     "execution_count": 39,
     "metadata": {},
     "output_type": "execute_result"
    }
   ],
   "source": [
    "miString[10:] "
   ]
  },
  {
   "cell_type": "code",
   "execution_count": 40,
   "id": "e78ec517-c7df-4293-b124-ec7cf150ff84",
   "metadata": {
    "tags": []
   },
   "outputs": [
    {
     "data": {
      "text/plain": [
       "'Esto es un'"
      ]
     },
     "execution_count": 40,
     "metadata": {},
     "output_type": "execute_result"
    }
   ],
   "source": [
    "miString[:10] "
   ]
  },
  {
   "cell_type": "code",
   "execution_count": 41,
   "id": "7b460b24-b2a9-4e64-9772-b64b5dc75ff7",
   "metadata": {
    "tags": []
   },
   "outputs": [
    {
     "data": {
      "text/plain": [
       "'i'"
      ]
     },
     "execution_count": 41,
     "metadata": {},
     "output_type": "execute_result"
    }
   ],
   "source": [
    "miString[-3] "
   ]
  },
  {
   "cell_type": "markdown",
   "id": "8b9e7a69-2a41-4541-9ed9-3de2ee650cc7",
   "metadata": {
    "tags": []
   },
   "source": [
    "# 4. Booleanos"
   ]
  },
  {
   "cell_type": "code",
   "execution_count": 44,
   "id": "8c2cfd8d-3899-4829-a182-8dd480d29419",
   "metadata": {
    "tags": []
   },
   "outputs": [
    {
     "data": {
      "text/plain": [
       "True"
      ]
     },
     "execution_count": 44,
     "metadata": {},
     "output_type": "execute_result"
    }
   ],
   "source": [
    "True"
   ]
  },
  {
   "cell_type": "code",
   "execution_count": 45,
   "id": "6af7f003-94d9-4398-a24d-a60ec15a7bc6",
   "metadata": {
    "tags": []
   },
   "outputs": [
    {
     "data": {
      "text/plain": [
       "False"
      ]
     },
     "execution_count": 45,
     "metadata": {},
     "output_type": "execute_result"
    }
   ],
   "source": [
    "False"
   ]
  },
  {
   "cell_type": "code",
   "execution_count": 46,
   "id": "0200586d-ebd2-460c-8c5f-69d46d23d9e7",
   "metadata": {
    "tags": []
   },
   "outputs": [
    {
     "data": {
      "text/plain": [
       "False"
      ]
     },
     "execution_count": 46,
     "metadata": {},
     "output_type": "execute_result"
    }
   ],
   "source": [
    "a = True\n",
    "b = False\n",
    "a and b"
   ]
  },
  {
   "cell_type": "code",
   "execution_count": 47,
   "id": "53ca28bf-ec99-430a-9170-d23943769e12",
   "metadata": {
    "tags": []
   },
   "outputs": [
    {
     "data": {
      "text/plain": [
       "True"
      ]
     },
     "execution_count": 47,
     "metadata": {},
     "output_type": "execute_result"
    }
   ],
   "source": [
    "a or b"
   ]
  },
  {
   "cell_type": "code",
   "execution_count": 48,
   "id": "21613f1a-80f1-4cc7-8b3c-3933a6c3fc90",
   "metadata": {
    "tags": []
   },
   "outputs": [
    {
     "data": {
      "text/plain": [
       "False"
      ]
     },
     "execution_count": 48,
     "metadata": {},
     "output_type": "execute_result"
    }
   ],
   "source": [
    "not(a)"
   ]
  },
  {
   "cell_type": "markdown",
   "id": "3b9a95aa-a8c0-4459-bbb4-8163822a529e",
   "metadata": {},
   "source": [
    "# 5. Condicionales"
   ]
  },
  {
   "cell_type": "code",
   "execution_count": 49,
   "id": "bf7285a2-2bdf-40b0-ab2c-22a8dc97c5a0",
   "metadata": {
    "tags": []
   },
   "outputs": [
    {
     "data": {
      "text/plain": [
       "False"
      ]
     },
     "execution_count": 49,
     "metadata": {},
     "output_type": "execute_result"
    }
   ],
   "source": [
    "a = 45\n",
    "b = 100\n",
    "a == b"
   ]
  },
  {
   "cell_type": "code",
   "execution_count": 51,
   "id": "209f45b5-b055-47c7-9050-df81e5adb204",
   "metadata": {
    "tags": []
   },
   "outputs": [
    {
     "name": "stdin",
     "output_type": "stream",
     "text": [
      "ingrese un numero:  20\n"
     ]
    },
    {
     "name": "stdout",
     "output_type": "stream",
     "text": [
      "El numero es mayor que 10\n"
     ]
    }
   ],
   "source": [
    "numero = int(input(\"ingrese un numero: \"))\n",
    "if ( numero >= 10):\n",
    "    print(\"El numero es mayor que 10\")\n",
    "else: \n",
    "    print (\"es menor que 10\")\n",
    "        "
   ]
  },
  {
   "cell_type": "code",
   "execution_count": 55,
   "id": "ebdf5119-7237-4688-9c2c-1330d3121ecf",
   "metadata": {
    "tags": []
   },
   "outputs": [
    {
     "name": "stdin",
     "output_type": "stream",
     "text": [
      "ingrese un numero de dia:  19\n"
     ]
    },
    {
     "name": "stdout",
     "output_type": "stream",
     "text": [
      "El Valor Ingresado no es Valido\n"
     ]
    }
   ],
   "source": [
    "dia= int(input(\"ingrese un numero de dia: \"))\n",
    "if((dia>=1) and( dia<=7)):\n",
    "    if(dia == 1):\n",
    "        dia_str= \"lunes\"\n",
    "    elif(dia ==2):\n",
    "        dia_str= \"martes\"\n",
    "    elif(dia ==3):\n",
    "        dia_str= \"miercoles\"\n",
    "    elif(dia ==4):\n",
    "        dia_str= \"Jueves\"\n",
    "    elif(dia ==5):\n",
    "        dia_str= \"viernes\"\n",
    "    else:\n",
    "        dia_str= \"es fin de semana\"\n",
    "else:\n",
    "    dia_str= \"El Valor Ingresado no es Valido\"\n",
    "\n",
    "print(dia_str)"
   ]
  },
  {
   "cell_type": "code",
   "execution_count": 56,
   "id": "c45a258f-2f09-4de8-9dc3-27157e5bb1d2",
   "metadata": {},
   "outputs": [
    {
     "name": "stdin",
     "output_type": "stream",
     "text": [
      "Ingrese un numero de dia:  5\n"
     ]
    },
    {
     "name": "stdout",
     "output_type": "stream",
     "text": [
      "Viernes\n"
     ]
    }
   ],
   "source": [
    "dia = int(input(\"Ingrese un numero de dia: \"))\n",
    "\n",
    "if((dia >= 1) and (dia <= 7)):\n",
    "    match dia:\n",
    "        case 1:\n",
    "            dia_str = \"Lunes\"\n",
    "        case 2:\n",
    "            dia_str = \"Martes\"\n",
    "        case 3:\n",
    "            dia_str = 'Miércoles'\n",
    "        case 4:\n",
    "            dia_str = \"Jueves\"\n",
    "        case 5:\n",
    "            dia_str = \"Viernes\"\n",
    "        case _:\n",
    "            dia_str = \"Es fin de semana\"\n",
    "else:\n",
    "\n",
    "    dia_str = \"El valor ingresado no es válido\"\n",
    "\n",
    "print(dia_str)"
   ]
  }
 ],
 "metadata": {
  "kernelspec": {
   "display_name": "Python 3 (ipykernel)",
   "language": "python",
   "name": "python3"
  },
  "language_info": {
   "codemirror_mode": {
    "name": "ipython",
    "version": 3
   },
   "file_extension": ".py",
   "mimetype": "text/x-python",
   "name": "python",
   "nbconvert_exporter": "python",
   "pygments_lexer": "ipython3",
   "version": "3.11.5"
  }
 },
 "nbformat": 4,
 "nbformat_minor": 5
}
